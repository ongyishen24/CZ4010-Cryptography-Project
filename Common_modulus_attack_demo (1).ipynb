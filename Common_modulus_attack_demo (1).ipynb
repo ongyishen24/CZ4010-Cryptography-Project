{
  "nbformat": 4,
  "nbformat_minor": 0,
  "metadata": {
    "colab": {
      "name": "Common modulus attack demo.ipynb",
      "provenance": []
    },
    "kernelspec": {
      "name": "python3",
      "display_name": "Python 3"
    },
    "language_info": {
      "name": "python"
    }
  },
  "cells": [
    {
      "cell_type": "code",
      "metadata": {
        "id": "n8msROD7dYzC"
      },
      "source": [
        "import random\n",
        "import secrets"
      ],
      "execution_count": 168,
      "outputs": []
    },
    {
      "cell_type": "code",
      "metadata": {
        "id": "VueEfyvFeXyT"
      },
      "source": [
        "from sympy import mod_inverse"
      ],
      "execution_count": 169,
      "outputs": []
    },
    {
      "cell_type": "code",
      "metadata": {
        "id": "581f7e0f"
      },
      "source": [
        "def gcd(a, b):\n",
        "    while(b):\n",
        "        a, b = b, a % b \n",
        "    return a"
      ],
      "execution_count": 170,
      "outputs": []
    },
    {
      "cell_type": "code",
      "metadata": {
        "id": "7381fd44"
      },
      "source": [
        "def RMPT(p, s): #Assuming number of bits > 600\n",
        "    q = p - 1\n",
        "    k = 0\n",
        "    while q % 2 != 1:\n",
        "        q //= 2\n",
        "        k += 1\n",
        "        \n",
        "    for _ in range(s):\n",
        "        a = random.randrange(3, p - 2)      \n",
        "        while gcd(a, p) != 1:\n",
        "            a = random.randrange(3, p - 2)\n",
        "        \n",
        "        z = pow(a, q, p)\n",
        "        \n",
        "        if z == 1 or z == p - 1:\n",
        "            continue #Not a witness, pick another a\n",
        "        \n",
        "        for i in range(1, k):\n",
        "            z = pow(a, pow(2, i)*q, p)\n",
        "            if z == p - 1:\n",
        "                break #Not a witness, pick another a\n",
        "        else:\n",
        "            return False  #a^((2^K)*Q)modP != -1 for all values of K, it is a witness, therefore its definitely not prime\n",
        "        \n",
        "    return True #After S iterations still not a composite, chance to be a prime"
      ],
      "execution_count": 171,
      "outputs": []
    },
    {
      "cell_type": "code",
      "metadata": {
        "id": "df27385f"
      },
      "source": [
        "def convert_to_ascii(message):\n",
        "    ascii_message = \"\"\n",
        "    for char in message:\n",
        "        ascii_char = ord(char)\n",
        "        ascii_char = str(ascii_char)\n",
        "        ascii_char = ascii_char.zfill(3)\n",
        "        ascii_message += ascii_char\n",
        "    return int(ascii_message)"
      ],
      "execution_count": 172,
      "outputs": []
    },
    {
      "cell_type": "code",
      "metadata": {
        "id": "79d3bd66"
      },
      "source": [
        "from textwrap import wrap\n",
        "\n",
        "def convert_to_string(ascii_message):\n",
        "    message = \"\"\n",
        "    ascii_message = str(ascii_message)\n",
        "    if(len(ascii_message) % 3 != 0):\n",
        "        for _ in range(3 - len(ascii_message) % 3):\n",
        "            ascii_message = \"0\" + ascii_message\n",
        "    ascii_list = wrap(ascii_message, 3)\n",
        "    for ascii in ascii_list:\n",
        "        message = message + chr(int(ascii))\n",
        "    return message"
      ],
      "execution_count": 173,
      "outputs": []
    },
    {
      "cell_type": "code",
      "metadata": {
        "id": "39a03b2b"
      },
      "source": [
        "def RSA_generate_D(e, p, q):\n",
        "    N = p * q\n",
        "    phi_N = (p - 1) * (q - 1)\n",
        "    assert gcd(e, phi_N) == 1, \"GCD of e and phi N must be 1\"\n",
        "    d = mod_inverse(e, phi_N)\n",
        "    return d"
      ],
      "execution_count": 174,
      "outputs": []
    },
    {
      "cell_type": "code",
      "metadata": {
        "id": "83a0fe01"
      },
      "source": [
        "def RSA_encrypt(ascii_message, e, N):\n",
        "    encrypted_message = pow(ascii_message, e, N)\n",
        "    return encrypted_message"
      ],
      "execution_count": 175,
      "outputs": []
    },
    {
      "cell_type": "code",
      "metadata": {
        "id": "4a552e0a"
      },
      "source": [
        "def Generate_Prime(bit_length, RMPT_rounds):   \n",
        "    while(True):\n",
        "        num = secrets.randbits(bit_length)\n",
        "        \n",
        "        #If number is even, make it odd\n",
        "        if num%2 == 0:\n",
        "            num += 1\n",
        "        #Try factorize using small primes\n",
        "        elif num%3 == 0:\n",
        "            continue\n",
        "        elif num%5 == 0:\n",
        "            continue\n",
        "        elif num%7 == 0:\n",
        "            continue\n",
        "        elif num%11 == 0:\n",
        "            continue\n",
        "        #Try the expensive Rabin-Miller Primality Test\n",
        "        elif RMPT(num, RMPT_rounds):\n",
        "            print(num)\n",
        "            return num"
      ],
      "execution_count": 176,
      "outputs": []
    },
    {
      "cell_type": "code",
      "metadata": {
        "id": "xjqp7yI92nAm"
      },
      "source": [
        ""
      ],
      "execution_count": 176,
      "outputs": []
    },
    {
      "cell_type": "markdown",
      "metadata": {
        "id": "EWib8axGfPUP"
      },
      "source": [
        "Demo of the attack\n",
        "\n",
        "Preparation of variables"
      ]
    },
    {
      "cell_type": "code",
      "metadata": {
        "id": "c272f118",
        "colab": {
          "base_uri": "https://localhost:8080/"
        },
        "outputId": "cb43ecd3-8274-4085-d6fc-11b0ae505305"
      },
      "source": [
        "p = Generate_Prime(1024, 15)"
      ],
      "execution_count": 177,
      "outputs": [
        {
          "output_type": "stream",
          "name": "stdout",
          "text": [
            "83135304480932928942168875954057172669167629731266225719121833672659593610683098722483392288638251183533255916083909504356799787213684032699426547980888502612610829295840272444831958786840845554678631696016626684958575952834632972274324144920572410847584855254344714670384829393774843463667184926044729491947\n"
          ]
        }
      ]
    },
    {
      "cell_type": "code",
      "metadata": {
        "id": "0ea1d4b7",
        "colab": {
          "base_uri": "https://localhost:8080/"
        },
        "outputId": "7b9ef52c-c162-494e-b286-898ddbdb4faf"
      },
      "source": [
        "q = Generate_Prime(1024, 15)"
      ],
      "execution_count": 178,
      "outputs": [
        {
          "output_type": "stream",
          "name": "stdout",
          "text": [
            "79673348221730066089257079429257407421836567088442696855654865335794171917724581636229017911221527541660893938279192584370665281244365064394631360847644216411189042759864709080384168476659209166368176851446237875260808759667739161636347492296599675717834919811266189299126241255622191125784720953431699460777\n"
          ]
        }
      ]
    },
    {
      "cell_type": "code",
      "metadata": {
        "id": "17343c28"
      },
      "source": [
        "N = p * q"
      ],
      "execution_count": 179,
      "outputs": []
    },
    {
      "cell_type": "code",
      "metadata": {
        "id": "nCe4EcfQfRsF"
      },
      "source": [
        "e1=17"
      ],
      "execution_count": 180,
      "outputs": []
    },
    {
      "cell_type": "code",
      "metadata": {
        "id": "Jj3ZOmNJfUmz"
      },
      "source": [
        "e2=257"
      ],
      "execution_count": 181,
      "outputs": []
    },
    {
      "cell_type": "code",
      "metadata": {
        "id": "2b18411b"
      },
      "source": [
        "d1 = RSA_generate_D(e1, p, q)"
      ],
      "execution_count": 182,
      "outputs": []
    },
    {
      "cell_type": "code",
      "metadata": {
        "id": "CrRFqCZCfXRG"
      },
      "source": [
        "d2 = RSA_generate_D(e2, p, q)"
      ],
      "execution_count": 183,
      "outputs": []
    },
    {
      "cell_type": "code",
      "metadata": {
        "id": "99f18d46",
        "colab": {
          "base_uri": "https://localhost:8080/"
        },
        "outputId": "7b40c747-18c8-4e96-dc0e-15c3d851b220"
      },
      "source": [
        "message = \"For this operation to succeed, both of you need to be mobilized simultaneously. You'll meet your partner once you get there.\"\n",
        "\n",
        "ascii_message = convert_to_ascii(message)\n",
        "print(ascii_message)\n",
        "ascii_message.bit_length()"
      ],
      "execution_count": 184,
      "outputs": [
        {
          "output_type": "stream",
          "name": "stdout",
          "text": [
            "70111114032116104105115032111112101114097116105111110032116111032115117099099101101100044032098111116104032111102032121111117032110101101100032116111032098101032109111098105108105122101100032115105109117108116097110101111117115108121046032089111117039108108032109101101116032121111117114032112097114116110101114032111110099101032121111117032103101116032116104101114101046\n"
          ]
        },
        {
          "output_type": "execute_result",
          "data": {
            "text/plain": [
              "1232"
            ]
          },
          "metadata": {},
          "execution_count": 184
        }
      ]
    },
    {
      "cell_type": "markdown",
      "metadata": {
        "id": "Iqxdhq95z394"
      },
      "source": [
        "Encryptions"
      ]
    },
    {
      "cell_type": "code",
      "metadata": {
        "id": "78faf606"
      },
      "source": [
        "encrypted_message_1 = RSA_encrypt(ascii_message, e1, N)"
      ],
      "execution_count": 185,
      "outputs": []
    },
    {
      "cell_type": "code",
      "metadata": {
        "id": "K9dNobVBfdIV"
      },
      "source": [
        "encrypted_message_2 = RSA_encrypt(ascii_message, e2, N)"
      ],
      "execution_count": 186,
      "outputs": []
    },
    {
      "cell_type": "markdown",
      "metadata": {
        "id": "uSWaelc-z509"
      },
      "source": [
        "Decryptions"
      ]
    },
    {
      "cell_type": "code",
      "metadata": {
        "id": "fb686b7d"
      },
      "source": [
        "decrypted_message_1 = RSA_encrypt(encrypted_message_1, d1, N)"
      ],
      "execution_count": 187,
      "outputs": []
    },
    {
      "cell_type": "code",
      "metadata": {
        "id": "Soow0CSjfl2t"
      },
      "source": [
        "decrypted_message_2 = RSA_encrypt(encrypted_message_2, d2, N)"
      ],
      "execution_count": 188,
      "outputs": []
    },
    {
      "cell_type": "markdown",
      "metadata": {
        "id": "Siix7Ytl0Hrk"
      },
      "source": [
        "Calculating a1 and a2"
      ]
    },
    {
      "cell_type": "code",
      "metadata": {
        "id": "3LFX5ZZiz-C5"
      },
      "source": [
        ""
      ],
      "execution_count": 188,
      "outputs": []
    },
    {
      "cell_type": "code",
      "metadata": {
        "id": "tXCKjvVhf-5M"
      },
      "source": [
        "a1=mod_inverse(e1,e2)"
      ],
      "execution_count": 189,
      "outputs": []
    },
    {
      "cell_type": "code",
      "metadata": {
        "id": "oBLySam3lM-Q"
      },
      "source": [
        "a2=int((1-(e1*a1))/e2)"
      ],
      "execution_count": 190,
      "outputs": []
    },
    {
      "cell_type": "markdown",
      "metadata": {
        "id": "ArPuLn5Q0NUu"
      },
      "source": [
        "Attempt to decrypt: encrypted_message_1^a1 mod N"
      ]
    },
    {
      "cell_type": "code",
      "metadata": {
        "id": "8raMXxX7lnBt"
      },
      "source": [
        "decrypt_attempt_1=(pow(encrypted_message_1,a1,N))"
      ],
      "execution_count": 191,
      "outputs": []
    },
    {
      "cell_type": "markdown",
      "metadata": {
        "id": "BQekhs5n0YLC"
      },
      "source": [
        "Attempt to decrypt: encrypted_message_2^a2 mod N. Since a2 is negative, we inverse this message to mod N and power it with (-a2)"
      ]
    },
    {
      "cell_type": "code",
      "metadata": {
        "id": "-5YyT4j6xma5"
      },
      "source": [
        "encrypt_inverse=mod_inverse(encrypted_message_2,N)"
      ],
      "execution_count": 192,
      "outputs": []
    },
    {
      "cell_type": "code",
      "metadata": {
        "id": "HVlhg40Cxz7r"
      },
      "source": [
        "decrypt_attempt_2=(pow(encrypt_inverse,(-a2),N))"
      ],
      "execution_count": 193,
      "outputs": []
    },
    {
      "cell_type": "markdown",
      "metadata": {
        "id": "IbkTBttW0vsb"
      },
      "source": [
        "Multiply them together"
      ]
    },
    {
      "cell_type": "code",
      "metadata": {
        "id": "zluL785dyOlC"
      },
      "source": [
        "decrypt_attempt=(decrypt_attempt_1*decrypt_attempt_2)%N"
      ],
      "execution_count": 194,
      "outputs": []
    },
    {
      "cell_type": "markdown",
      "metadata": {
        "id": "gPfW3CDt0x_h"
      },
      "source": [
        "Check decrypted messages of both recipients"
      ]
    },
    {
      "cell_type": "code",
      "metadata": {
        "colab": {
          "base_uri": "https://localhost:8080/",
          "height": 35
        },
        "id": "1xfTMwVYyVJr",
        "outputId": "a9503262-c48d-423a-c80f-cfda612bdde0"
      },
      "source": [
        "convert_to_string(decrypted_message_1)"
      ],
      "execution_count": 195,
      "outputs": [
        {
          "output_type": "execute_result",
          "data": {
            "application/vnd.google.colaboratory.intrinsic+json": {
              "type": "string"
            },
            "text/plain": [
              "\"For this operation to succeed, both of you need to be mobilized simultaneously. You'll meet your partner once you get there.\""
            ]
          },
          "metadata": {},
          "execution_count": 195
        }
      ]
    },
    {
      "cell_type": "code",
      "metadata": {
        "colab": {
          "base_uri": "https://localhost:8080/",
          "height": 35
        },
        "id": "KDJ-au_YydBr",
        "outputId": "15fa48a1-ef86-45e9-85b0-bf12d4d6be5a"
      },
      "source": [
        "convert_to_string(decrypted_message_2)"
      ],
      "execution_count": 196,
      "outputs": [
        {
          "output_type": "execute_result",
          "data": {
            "application/vnd.google.colaboratory.intrinsic+json": {
              "type": "string"
            },
            "text/plain": [
              "\"For this operation to succeed, both of you need to be mobilized simultaneously. You'll meet your partner once you get there.\""
            ]
          },
          "metadata": {},
          "execution_count": 196
        }
      ]
    },
    {
      "cell_type": "markdown",
      "metadata": {
        "id": "692ikRVx01z7"
      },
      "source": [
        "Did the eavesdropping succeed?"
      ]
    },
    {
      "cell_type": "code",
      "metadata": {
        "colab": {
          "base_uri": "https://localhost:8080/",
          "height": 35
        },
        "id": "EQTsMc7PyfED",
        "outputId": "fdcc6fd1-515c-4b15-e326-04f6b6183f1e"
      },
      "source": [
        "convert_to_string(decrypt_attempt)"
      ],
      "execution_count": 197,
      "outputs": [
        {
          "output_type": "execute_result",
          "data": {
            "application/vnd.google.colaboratory.intrinsic+json": {
              "type": "string"
            },
            "text/plain": [
              "\"For this operation to succeed, both of you need to be mobilized simultaneously. You'll meet your partner once you get there.\""
            ]
          },
          "metadata": {},
          "execution_count": 197
        }
      ]
    }
  ]
}