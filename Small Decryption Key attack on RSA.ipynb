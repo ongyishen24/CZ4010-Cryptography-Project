{
 "cells": [
  {
   "cell_type": "code",
   "execution_count": 1,
   "id": "0fb89612",
   "metadata": {},
   "outputs": [],
   "source": [
    "#Requires Python 3.8+"
   ]
  },
  {
   "cell_type": "markdown",
   "id": "096d3f4a",
   "metadata": {},
   "source": [
    "# Imports"
   ]
  },
  {
   "cell_type": "code",
   "execution_count": 2,
   "id": "6ab4cd57",
   "metadata": {},
   "outputs": [],
   "source": [
    "import random\n",
    "import secrets\n",
    "from decimal import *"
   ]
  },
  {
   "cell_type": "markdown",
   "id": "9da521a0",
   "metadata": {},
   "source": [
    "# Functions"
   ]
  },
  {
   "cell_type": "markdown",
   "id": "383bb97a",
   "metadata": {},
   "source": [
    "Returns the GCD of 2 numbers"
   ]
  },
  {
   "cell_type": "code",
   "execution_count": 3,
   "id": "5464dd73",
   "metadata": {},
   "outputs": [],
   "source": [
    "def gcd(a, b):\n",
    "    while(b):\n",
    "        a, b = b, a % b \n",
    "    return a"
   ]
  },
  {
   "cell_type": "markdown",
   "id": "19fe500f",
   "metadata": {},
   "source": [
    "Continued Fractions"
   ]
  },
  {
   "cell_type": "code",
   "execution_count": 4,
   "id": "22e50855",
   "metadata": {},
   "outputs": [],
   "source": [
    "from fractions import Fraction\n",
    "\n",
    "def continued_fractions(convergence):\n",
    "    \n",
    "    convergence_list = []\n",
    "    for i in range(1, len(convergence) + 1):\n",
    "        convergence_list.append(convergence[:i])\n",
    "    \n",
    "    fractions = []\n",
    "    \n",
    "    for c in convergence_list:\n",
    "        fractions.append(recursive_continued_fraction(c.copy()))\n",
    "    \n",
    "    return fractions\n",
    "    \n",
    "def recursive_continued_fraction(convergence):\n",
    "    \n",
    "    a = convergence.pop(0)\n",
    "    \n",
    "    if len(convergence) == 0:\n",
    "        return a\n",
    "    else:\n",
    "        a = a + Fraction(1, (recursive_continued_fraction(convergence)))\n",
    "        return a\n",
    "    return a"
   ]
  },
  {
   "cell_type": "code",
   "execution_count": 5,
   "id": "7b2d9cc5",
   "metadata": {},
   "outputs": [],
   "source": [
    "def continued_fractions_expansion(a, b):\n",
    "    expansion = []\n",
    "    while(b):\n",
    "        expansion.append(a // b)\n",
    "        a, b = b, a % b \n",
    "    return expansion"
   ]
  },
  {
   "cell_type": "markdown",
   "id": "c9f0b85e",
   "metadata": {},
   "source": [
    "Rabin-Miller Primality Test<br>\n",
    "Checks if a number is prime, p is the number to be tested, s is the number of rounds<br>\n",
    "Number of rounds should ensure that the probability of p not being prime is < 2^(-80) "
   ]
  },
  {
   "cell_type": "code",
   "execution_count": 6,
   "id": "6679c69c",
   "metadata": {},
   "outputs": [],
   "source": [
    "def RMPT(p, s):\n",
    "    q = p - 1\n",
    "    k = 0\n",
    "    while q % 2 != 1:\n",
    "        q //= 2\n",
    "        k += 1\n",
    "        \n",
    "    for _ in range(s):\n",
    "        a = random.randrange(3, p - 2)      \n",
    "        while gcd(a, p) != 1:\n",
    "            a = random.randrange(3, p - 2)\n",
    "        \n",
    "        z = pow(a, q, p)\n",
    "        \n",
    "        if z == 1 or z == p - 1:\n",
    "            continue #Not a witness, pick another a\n",
    "        \n",
    "        for i in range(1, k):\n",
    "            z = pow(a, pow(2, i)*q, p)\n",
    "            if z == p - 1:\n",
    "                break #Not a witness, pick another a\n",
    "        else:\n",
    "            return False  #a^((2^K)*Q)modP != -1 for all values of K, it is a witness, therefore its definitely not prime\n",
    "        \n",
    "    return True #After S iterations still not a composite, chance to be a prime"
   ]
  },
  {
   "cell_type": "markdown",
   "id": "7e577f43",
   "metadata": {},
   "source": [
    "Converts a string to ascii"
   ]
  },
  {
   "cell_type": "code",
   "execution_count": 7,
   "id": "1bc01953",
   "metadata": {},
   "outputs": [],
   "source": [
    "def convert_to_ascii(message):\n",
    "    ascii_message = \"\"\n",
    "    for char in message:\n",
    "        ascii_char = ord(char)\n",
    "        ascii_char = str(ascii_char)\n",
    "        ascii_char = ascii_char.zfill(3)\n",
    "        ascii_message += ascii_char\n",
    "    return int(ascii_message)"
   ]
  },
  {
   "cell_type": "markdown",
   "id": "8d9e4614",
   "metadata": {},
   "source": [
    "Converts ascii back to string"
   ]
  },
  {
   "cell_type": "code",
   "execution_count": 8,
   "id": "6c26fd7a",
   "metadata": {},
   "outputs": [],
   "source": [
    "from textwrap import wrap\n",
    "\n",
    "def convert_to_string(ascii_message):\n",
    "    message = \"\"\n",
    "    ascii_message = str(ascii_message)\n",
    "    if(len(ascii_message) % 3 != 0):\n",
    "        for _ in range(3 - len(ascii_message) % 3):\n",
    "            ascii_message = \"0\" + ascii_message\n",
    "    ascii_list = wrap(ascii_message, 3)\n",
    "    for ascii in ascii_list:\n",
    "        message = message + chr(int(ascii))\n",
    "    return message"
   ]
  },
  {
   "cell_type": "markdown",
   "id": "ac8b139e",
   "metadata": {},
   "source": [
    "Generates the decryption key using public key e and 2 prime numbers p and q"
   ]
  },
  {
   "cell_type": "code",
   "execution_count": 9,
   "id": "63f5f453",
   "metadata": {},
   "outputs": [],
   "source": [
    "def RSA_generate_D(e, p, q):\n",
    "    N = p * q\n",
    "    phi_N = (p - 1) * (q - 1)\n",
    "    assert gcd(e, phi_N) == 1, \"GCD of e and phi N must be 1\"\n",
    "    d = pow(e, -1, phi_N)\n",
    "    return d"
   ]
  },
  {
   "cell_type": "markdown",
   "id": "3c8ef73d",
   "metadata": {},
   "source": [
    "Encrypts a number with public key e"
   ]
  },
  {
   "cell_type": "code",
   "execution_count": 10,
   "id": "53f62355",
   "metadata": {},
   "outputs": [],
   "source": [
    "def RSA_encrypt(ascii_message, e, N):\n",
    "    encrypted_message = pow(ascii_message, e, N)\n",
    "    return encrypted_message"
   ]
  },
  {
   "cell_type": "markdown",
   "id": "d515efb8",
   "metadata": {},
   "source": [
    "Encrypts a number using private key d"
   ]
  },
  {
   "cell_type": "code",
   "execution_count": 11,
   "id": "508a53d4",
   "metadata": {},
   "outputs": [],
   "source": [
    "def RSA_decrypt(encrypted_message, d, N):\n",
    "    ascii_message = pow(encrypted_message, d, N)\n",
    "    return ascii_message"
   ]
  },
  {
   "cell_type": "markdown",
   "id": "a389ea89",
   "metadata": {},
   "source": [
    "Continuously generates random bit_length numbers<br>\n",
    "If number is even, adds one to make it odd<br>\n",
    "Tries to factorize the number with small primes to determine if composite<br>\n",
    "Uses Rabin-Miller Primality Test if it is still possible to be a prime number"
   ]
  },
  {
   "cell_type": "code",
   "execution_count": 12,
   "id": "af3da1c8",
   "metadata": {},
   "outputs": [],
   "source": [
    "def Generate_Prime(bit_length, RMPT_rounds):   \n",
    "    while(True):\n",
    "        num = secrets.randbits(bit_length)\n",
    "        \n",
    "        #If number is even, make it odd\n",
    "        if num%2 == 0:\n",
    "            num += 1\n",
    "        #Try factorize using small primes\n",
    "        elif num%3 == 0:\n",
    "            continue\n",
    "        elif num%5 == 0:\n",
    "            continue\n",
    "        elif num%7 == 0:\n",
    "            continue\n",
    "        elif num%11 == 0:\n",
    "            continue\n",
    "        #Try the expensive Rabin-Miller Primality Test\n",
    "        elif RMPT(num, RMPT_rounds):\n",
    "            print(num)\n",
    "            return num"
   ]
  },
  {
   "cell_type": "markdown",
   "id": "f9b97c15",
   "metadata": {},
   "source": [
    "# RSA 1024"
   ]
  },
  {
   "cell_type": "markdown",
   "id": "f66bc9ee",
   "metadata": {},
   "source": [
    "Generate 2 random 1024 bit primes"
   ]
  },
  {
   "cell_type": "code",
   "execution_count": 13,
   "id": "63c72d68",
   "metadata": {},
   "outputs": [
    {
     "name": "stdout",
     "output_type": "stream",
     "text": [
      "44766954677586077999037341459065199180495034222178160616135997111460866687785624936836160949057483998284545472916477804841128189268153096340621271193131742751749173153959857256123356218867595064090864328164930868675696585703532402313754860839998014353526607525112438299000673505758441223598058535431008536127\n"
     ]
    }
   ],
   "source": [
    "p = Generate_Prime(1024, 3)"
   ]
  },
  {
   "cell_type": "code",
   "execution_count": 14,
   "id": "b2f24fa9",
   "metadata": {},
   "outputs": [
    {
     "name": "stdout",
     "output_type": "stream",
     "text": [
      "85918907526637935690325256161579873701713503565353628239700380362994063548575393648675715822214794776304258132868091267717089760489050679167173264725935058989704584767063096210146358297999113855982071843616838516542295320273897154794453716346017830980147527063602013145124816313902633182395653927821397283259\n"
     ]
    }
   ],
   "source": [
    "q = Generate_Prime(1024, 3)"
   ]
  },
  {
   "cell_type": "code",
   "execution_count": 15,
   "id": "e0f0ecd6",
   "metadata": {},
   "outputs": [],
   "source": [
    "N = p * q"
   ]
  },
  {
   "cell_type": "markdown",
   "id": "4de71c53",
   "metadata": {},
   "source": [
    "So lets say you are designing a program that has a high emphasis on performance, in particular having high performance decryption. Using a large decryption exponent would mean it would take longer.\n",
    "\n",
    "Since e and d are interchangable for the purposes of encrypting and decrypting (Provided you have not published the public exponent yet) \n",
    "\n",
    "c = m^d mod N\n",
    "m = c^e mod N\n",
    "\n",
    "c = m^e mod N\n",
    "m = c^d mod N\n",
    "\n",
    "Lets say that instead of using e to encrypt your message, you instead choose to use a much larger d to encrypt, using the smaller e to decrypt the message.\n",
    "\n",
    "This should increase the performance!\n",
    "\n",
    "But doing so would allow someone to use Wiener's attack to retrieve your decryption exponent since the decryption exponent is smaller than 1/3 * N ^ 1/4"
   ]
  },
  {
   "cell_type": "markdown",
   "id": "5cfded44",
   "metadata": {},
   "source": [
    "# Wiener's attack"
   ]
  },
  {
   "cell_type": "markdown",
   "id": "f5fc2278",
   "metadata": {},
   "source": [
    "First lets randomly generate a small decryption exponent"
   ]
  },
  {
   "cell_type": "code",
   "execution_count": 54,
   "id": "9c4c0325",
   "metadata": {},
   "outputs": [],
   "source": [
    "phi_N = (p-1) * (q-1)\n",
    "\n",
    "while(True):\n",
    "    d = random.getrandbits(32)\n",
    "    if gcd(d, phi_N) == 1:\n",
    "        break;"
   ]
  },
  {
   "cell_type": "code",
   "execution_count": 55,
   "id": "3958da3d",
   "metadata": {},
   "outputs": [
    {
     "name": "stdout",
     "output_type": "stream",
     "text": [
      "4085401199\n"
     ]
    }
   ],
   "source": [
    "print(d)"
   ]
  },
  {
   "cell_type": "markdown",
   "id": "faf3a17e",
   "metadata": {},
   "source": [
    "Compute the encryption exponent"
   ]
  },
  {
   "cell_type": "code",
   "execution_count": 56,
   "id": "9957cfa7",
   "metadata": {},
   "outputs": [],
   "source": [
    "e = RSA_generate_D(d, p, q)"
   ]
  },
  {
   "cell_type": "code",
   "execution_count": 58,
   "id": "b2b1e737",
   "metadata": {},
   "outputs": [
    {
     "name": "stdout",
     "output_type": "stream",
     "text": [
      "3171931533469591756780326733493661188545004634935736429330942597525923233614015324715593262853307417667488754617574628271823291190919732933545738578649029411186676390454687835993641828846133347997461937894176210302899765003878221514809470554104678200626230959097554055656763118248254634185739459038513710185251929267730539995014226790459916801830983118333418374698686589788723309280258162867985899835416379122600327112947547635917372346036082165093322789064841153887783370243306774842227290419921432679262753665706289747139406224341614486947980982298594399177615125744514403398844240762818137435770377544880422249279\n"
     ]
    }
   ],
   "source": [
    "print(e)"
   ]
  },
  {
   "cell_type": "code",
   "execution_count": 59,
   "id": "4762a9e0",
   "metadata": {},
   "outputs": [
    {
     "name": "stdout",
     "output_type": "stream",
     "text": [
      "87104121032117115105110103032115109097108108032100101099114121112116105111110032101120112111110101110116032105115032098097100\n"
     ]
    },
    {
     "data": {
      "text/plain": [
       "416"
      ]
     },
     "execution_count": 59,
     "metadata": {},
     "output_type": "execute_result"
    }
   ],
   "source": [
    "message = \"Why using small decryption exponent is bad\"\n",
    "\n",
    "ascii_message = convert_to_ascii(message)\n",
    "print(ascii_message)\n",
    "ascii_message.bit_length()"
   ]
  },
  {
   "cell_type": "markdown",
   "id": "027864c0",
   "metadata": {},
   "source": [
    "Encrypt message using e"
   ]
  },
  {
   "cell_type": "code",
   "execution_count": 60,
   "id": "4d94f0e9",
   "metadata": {},
   "outputs": [],
   "source": [
    "encrypted_message = RSA_encrypt(ascii_message, e, N)"
   ]
  },
  {
   "cell_type": "code",
   "execution_count": 61,
   "id": "f8f84802",
   "metadata": {},
   "outputs": [
    {
     "name": "stdout",
     "output_type": "stream",
     "text": [
      "1652639568623495401814885327801839496969237098295600054285406835380869843366557636126270115920896221747173299315973818203545880579013690270948985648418319176057804783084628117457459215841090390878389877071715187177897880507256474124857524467404164826669799656546764163258497935574617277500572983095415269836527976978332495693541293589368542088111666563003460902976591027975479981491346279725030200898825679543727413749348642737687552132802845566092500055380148485402157605056330784135301002801297220772950814640544122142953876530012440773867880058034871443056161251863124259508205019023184742840833592119376377311495\n"
     ]
    }
   ],
   "source": [
    "print(encrypted_message)"
   ]
  },
  {
   "cell_type": "code",
   "execution_count": 62,
   "id": "de4ad5ef",
   "metadata": {},
   "outputs": [
    {
     "name": "stdout",
     "output_type": "stream",
     "text": [
      "\u0001ʌɿȸɯǯƑ̮͵Ň̡͇ǰωíbħɘ6ĝƖ̓żͥ͋Ůȭɼ~ĎsΘ΀Ý˫­īĻύ̲ËȡͰɃ\r",
      "ʲĎδϙʈƢĿ°9̤̏Tɴuǉǋ×͉ZƆͮƅͭGˋ»±΁ͰǻĀǚ|͙ȌǓƔ¤̺ʝ̟ʐȢ˼£ĂǱΧȾɩĕǴȼϗ_Ɵč̈́ȏϐϒŌǯʵȝĥɍŰȞXoʚȳ\u0003ǌΆϐɏ\u001bϏǟϕǫŚė˕\u001e",
      "È΂̹ʧȟ˗Ɲ˭ŜʂˡʯȨ̢͍ȶ\\Ǵ7żǥƒɝ8Ŋ̐ĭ\u0002̡ĩǕζ̮ʀȠzιͬȒ\f",
      "Ƹ̅ͣͰ:\"ͧƻ8¡û͟|ăǼÍ\u0013\u0017¸˦͈́ɐwŸŹķǯ\n"
     ]
    }
   ],
   "source": [
    "print(convert_to_string(encrypted_message))"
   ]
  },
  {
   "cell_type": "markdown",
   "id": "d51620cc",
   "metadata": {},
   "source": [
    "I can now calculate the convergents of e/N"
   ]
  },
  {
   "cell_type": "code",
   "execution_count": 63,
   "id": "6e9425d5",
   "metadata": {},
   "outputs": [],
   "source": [
    "expansion = continued_fractions_expansion(e, N)\n",
    "fractions = continued_fractions(expansion)"
   ]
  },
  {
   "cell_type": "markdown",
   "id": "f51ae8de",
   "metadata": {},
   "source": [
    "One of the denominators will be d"
   ]
  },
  {
   "cell_type": "code",
   "execution_count": 65,
   "id": "ff6ad026",
   "metadata": {},
   "outputs": [],
   "source": [
    "denominators = []\n",
    "for i in fractions:\n",
    "    denominators.append(i.denominator)"
   ]
  },
  {
   "cell_type": "markdown",
   "id": "252025b4",
   "metadata": {},
   "source": [
    "(m^e)^d mod N\n",
    "\n",
    "= m^1 mod N\n",
    "\n",
    "= m mod N\n",
    "\n",
    "We can encrypt a random message with e and test out all the denominators to see which one will result in getting the same message back"
   ]
  },
  {
   "cell_type": "code",
   "execution_count": 66,
   "id": "7bfa436c",
   "metadata": {},
   "outputs": [],
   "source": [
    "random_message = pow(17, e, N)"
   ]
  },
  {
   "cell_type": "code",
   "execution_count": 67,
   "id": "b36d25e5",
   "metadata": {},
   "outputs": [
    {
     "name": "stdout",
     "output_type": "stream",
     "text": [
      "4085401199\n"
     ]
    }
   ],
   "source": [
    "for denominator in denominators:\n",
    "    if pow(random_message, denominator, N) == 17 :\n",
    "        print(denominator)\n",
    "        break;"
   ]
  },
  {
   "cell_type": "markdown",
   "id": "98d07372",
   "metadata": {},
   "source": [
    "We found d!"
   ]
  }
 ],
 "metadata": {
  "kernelspec": {
   "display_name": "Python 3 (ipykernel)",
   "language": "python",
   "name": "python3"
  },
  "language_info": {
   "codemirror_mode": {
    "name": "ipython",
    "version": 3
   },
   "file_extension": ".py",
   "mimetype": "text/x-python",
   "name": "python",
   "nbconvert_exporter": "python",
   "pygments_lexer": "ipython3",
   "version": "3.8.5"
  }
 },
 "nbformat": 4,
 "nbformat_minor": 5
}
