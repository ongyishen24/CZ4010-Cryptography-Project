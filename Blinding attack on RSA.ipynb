{
 "cells": [
  {
   "cell_type": "code",
   "execution_count": 1,
   "id": "0fb89612",
   "metadata": {},
   "outputs": [],
   "source": [
    "#Requires Python 3.8+ for inverse mod using pow()"
   ]
  },
  {
   "cell_type": "markdown",
   "id": "096d3f4a",
   "metadata": {},
   "source": [
    "# Imports"
   ]
  },
  {
   "cell_type": "code",
   "execution_count": 2,
   "id": "6ab4cd57",
   "metadata": {},
   "outputs": [],
   "source": [
    "import random\n",
    "import secrets\n",
    "from decimal import *"
   ]
  },
  {
   "cell_type": "markdown",
   "id": "9da521a0",
   "metadata": {},
   "source": [
    "# Functions"
   ]
  },
  {
   "cell_type": "markdown",
   "id": "383bb97a",
   "metadata": {},
   "source": [
    "Returns the GCD of 2 numbers"
   ]
  },
  {
   "cell_type": "code",
   "execution_count": 3,
   "id": "5464dd73",
   "metadata": {},
   "outputs": [],
   "source": [
    "def gcd(a, b):\n",
    "    while(b):\n",
    "        a, b = b, a % b \n",
    "    return a"
   ]
  },
  {
   "cell_type": "markdown",
   "id": "c9f0b85e",
   "metadata": {},
   "source": [
    "Rabin-Miller Primality Test<br>\n",
    "Checks if a number is prime, p is the number to be tested, s is the number of rounds<br>\n",
    "Number of rounds should ensure that the probability of p not being prime is < 2^(-80) "
   ]
  },
  {
   "cell_type": "code",
   "execution_count": 6,
   "id": "6679c69c",
   "metadata": {},
   "outputs": [],
   "source": [
    "def RMPT(p, s):\n",
    "    q = p - 1\n",
    "    k = 0\n",
    "    while q % 2 != 1:\n",
    "        q //= 2\n",
    "        k += 1\n",
    "        \n",
    "    for _ in range(s):\n",
    "        a = random.randrange(3, p - 2)      \n",
    "        while gcd(a, p) != 1:\n",
    "            a = random.randrange(3, p - 2)\n",
    "        \n",
    "        z = pow(a, q, p)\n",
    "        \n",
    "        if z == 1 or z == p - 1:\n",
    "            continue #Not a witness, pick another a\n",
    "        \n",
    "        for i in range(1, k):\n",
    "            z = pow(a, pow(2, i)*q, p)\n",
    "            if z == p - 1:\n",
    "                break #Not a witness, pick another a\n",
    "        else:\n",
    "            return False  #a^((2^K)*Q)modP != -1 for all values of K, it is a witness, therefore its definitely not prime\n",
    "        \n",
    "    return True #After S iterations still not a composite, chance to be a prime"
   ]
  },
  {
   "cell_type": "markdown",
   "id": "7e577f43",
   "metadata": {},
   "source": [
    "Converts a string to ascii"
   ]
  },
  {
   "cell_type": "code",
   "execution_count": 7,
   "id": "1bc01953",
   "metadata": {},
   "outputs": [],
   "source": [
    "def convert_to_ascii(message):\n",
    "    ascii_message = \"\"\n",
    "    for char in message:\n",
    "        ascii_char = ord(char)\n",
    "        ascii_char = str(ascii_char)\n",
    "        ascii_char = ascii_char.zfill(3)\n",
    "        ascii_message += ascii_char\n",
    "    return int(ascii_message)"
   ]
  },
  {
   "cell_type": "markdown",
   "id": "8d9e4614",
   "metadata": {},
   "source": [
    "Converts ascii back to string"
   ]
  },
  {
   "cell_type": "code",
   "execution_count": 8,
   "id": "6c26fd7a",
   "metadata": {},
   "outputs": [],
   "source": [
    "from textwrap import wrap\n",
    "\n",
    "def convert_to_string(ascii_message):\n",
    "    message = \"\"\n",
    "    ascii_message = str(ascii_message)\n",
    "    if(len(ascii_message) % 3 != 0):\n",
    "        for _ in range(3 - len(ascii_message) % 3):\n",
    "            ascii_message = \"0\" + ascii_message\n",
    "    ascii_list = wrap(ascii_message, 3)\n",
    "    for ascii in ascii_list:\n",
    "        message = message + chr(int(ascii))\n",
    "    return message"
   ]
  },
  {
   "cell_type": "markdown",
   "id": "ac8b139e",
   "metadata": {},
   "source": [
    "Generates the decryption key using public key e and 2 prime numbers p and q"
   ]
  },
  {
   "cell_type": "code",
   "execution_count": 9,
   "id": "63f5f453",
   "metadata": {},
   "outputs": [],
   "source": [
    "def RSA_generate_D(e, p, q):\n",
    "    N = p * q\n",
    "    phi_N = (p - 1) * (q - 1)\n",
    "    assert gcd(e, phi_N) == 1, \"GCD of e and phi N must be 1\"\n",
    "    d = pow(e, -1, phi_N)\n",
    "    return d"
   ]
  },
  {
   "cell_type": "markdown",
   "id": "3c8ef73d",
   "metadata": {},
   "source": [
    "Encrypts a number with public key e"
   ]
  },
  {
   "cell_type": "code",
   "execution_count": 10,
   "id": "53f62355",
   "metadata": {},
   "outputs": [],
   "source": [
    "def RSA_encrypt(ascii_message, e, N):\n",
    "    encrypted_message = pow(ascii_message, e, N)\n",
    "    return encrypted_message"
   ]
  },
  {
   "cell_type": "markdown",
   "id": "d515efb8",
   "metadata": {},
   "source": [
    "Encrypts a number using private key d"
   ]
  },
  {
   "cell_type": "code",
   "execution_count": 11,
   "id": "508a53d4",
   "metadata": {},
   "outputs": [],
   "source": [
    "def RSA_decrypt(encrypted_message, d, N):\n",
    "    ascii_message = pow(encrypted_message, d, N)\n",
    "    return ascii_message"
   ]
  },
  {
   "cell_type": "markdown",
   "id": "a389ea89",
   "metadata": {},
   "source": [
    "Continuously generates random bit_length numbers<br>\n",
    "If number is even, adds one to make it odd<br>\n",
    "Tries to factorize the number with small primes to determine if composite<br>\n",
    "Uses Rabin-Miller Primality Test if it is still possible to be a prime number"
   ]
  },
  {
   "cell_type": "code",
   "execution_count": 12,
   "id": "af3da1c8",
   "metadata": {},
   "outputs": [],
   "source": [
    "def Generate_Prime(bit_length, RMPT_rounds):   \n",
    "    while(True):\n",
    "        num = secrets.randbits(bit_length)\n",
    "        \n",
    "        #If number is even, make it odd\n",
    "        if num%2 == 0:\n",
    "            num += 1\n",
    "        #Try factorize using small primes\n",
    "        elif num%3 == 0:\n",
    "            continue\n",
    "        elif num%5 == 0:\n",
    "            continue\n",
    "        elif num%7 == 0:\n",
    "            continue\n",
    "        elif num%11 == 0:\n",
    "            continue\n",
    "        #Try the expensive Rabin-Miller Primality Test\n",
    "        elif RMPT(num, RMPT_rounds):\n",
    "            print(num)\n",
    "            return num"
   ]
  },
  {
   "cell_type": "markdown",
   "id": "f9b97c15",
   "metadata": {},
   "source": [
    "# Using RSA 1024 for signatures"
   ]
  },
  {
   "cell_type": "markdown",
   "id": "f66bc9ee",
   "metadata": {},
   "source": [
    "Generate 2 random 1024 bit primes"
   ]
  },
  {
   "cell_type": "code",
   "execution_count": 289,
   "id": "63c72d68",
   "metadata": {},
   "outputs": [
    {
     "name": "stdout",
     "output_type": "stream",
     "text": [
      "100090347480003983541165579353209902124921372611110263287717435567159178529917834236491103134949193993555895846827386848838450651095767610140329668234050707721046083642975420017210986781615040893826023713022996167967145675960726290036869387197959970805055944392314851818453665701264547981192967102582994573833\n"
     ]
    }
   ],
   "source": [
    "p = Generate_Prime(1024, 3)"
   ]
  },
  {
   "cell_type": "code",
   "execution_count": 294,
   "id": "b2f24fa9",
   "metadata": {},
   "outputs": [
    {
     "name": "stdout",
     "output_type": "stream",
     "text": [
      "91849429487171413566263377164551272783701514920132808624967186918478256380597326874848236541340633025533775381290771516010426828373589306733278474020343552321881584978897001280016142472036103241769952994254247671725270231252614120204754921190373881204524553247891093330171810077513889848254299102628011636459\n"
     ]
    }
   ],
   "source": [
    "q = Generate_Prime(1024, 3)"
   ]
  },
  {
   "cell_type": "code",
   "execution_count": 295,
   "id": "e0f0ecd6",
   "metadata": {},
   "outputs": [],
   "source": [
    "N = p * q"
   ]
  },
  {
   "cell_type": "markdown",
   "id": "ab33ed3d",
   "metadata": {},
   "source": [
    "Using 17 as our encryption exponent, generate d"
   ]
  },
  {
   "cell_type": "code",
   "execution_count": 296,
   "id": "d557f225",
   "metadata": {},
   "outputs": [],
   "source": [
    "e = 17\n",
    "d = RSA_generate_D(e, p, q)"
   ]
  },
  {
   "cell_type": "code",
   "execution_count": 297,
   "id": "f56765d7",
   "metadata": {},
   "outputs": [
    {
     "name": "stdout",
     "output_type": "stream",
     "text": [
      "8111683511656862534253074603845930193344637059812316703314581723307419155877217321149051386105334428239961401790155762231464907559014784850706859229278069660664175881257347391666524345407049777446518444384741874559663391670232533539760757347666327225855678507598391213034030024837003408358506561793258924920280197533524048710297541086527256176499807540980308251408928069426156965176333262518218422533236706188719144926078632384386741263338938715331390569003816959400230892408989628463706142988819917740967757468316618319059982675748698074075230291808330068360145824112121937955293783423297766446519541122089962323873\n"
     ]
    }
   ],
   "source": [
    "print(d)"
   ]
  },
  {
   "cell_type": "markdown",
   "id": "f5b062ed",
   "metadata": {},
   "source": [
    "Lets say Bob wants to send a message, but he wants to make sure that others can be sure he was the one that truly sent the message"
   ]
  },
  {
   "cell_type": "code",
   "execution_count": 298,
   "id": "b4f14060",
   "metadata": {},
   "outputs": [
    {
     "name": "stdout",
     "output_type": "stream",
     "text": [
      "84104105115032109101115115097103101032105115032102114111109032066111098033\n"
     ]
    }
   ],
   "source": [
    "message = \"This message is from Bob!\"\n",
    "\n",
    "ascii_message = convert_to_ascii(message)\n",
    "print(ascii_message)"
   ]
  },
  {
   "cell_type": "markdown",
   "id": "92423ec7",
   "metadata": {},
   "source": [
    "Bob can encrypt the message using his private key d"
   ]
  },
  {
   "cell_type": "code",
   "execution_count": 299,
   "id": "61900c0c",
   "metadata": {},
   "outputs": [],
   "source": [
    "encrypted_message = RSA_encrypt(ascii_message, d, N)"
   ]
  },
  {
   "cell_type": "code",
   "execution_count": 300,
   "id": "3ce5c5d0",
   "metadata": {},
   "outputs": [
    {
     "name": "stdout",
     "output_type": "stream",
     "text": [
      "5461603548938846822024599455259948669029575061738619524414593515115999090577735329305446540696531404061657008915945528613131973000835098787240497554844654359634645475782413150895680161696017892115680179267315360363870494369757908700329275554044478176698583460383051668530189397140458583720956482895012094511024901880940931578698321213183178338789040105831411696543983669851922741557432641956825968331103640742413762723076196327531075415595957471400898457481083450057092128857089015083567257259523191456544980233827341790823361375465908776581965589849819097763387518531812616898942828139034455528607799518475734649204\n"
     ]
    }
   ],
   "source": [
    "print(encrypted_message)"
   ]
  },
  {
   "cell_type": "code",
   "execution_count": 301,
   "id": "6a66231e",
   "metadata": {},
   "outputs": [
    {
     "name": "stdout",
     "output_type": "stream",
     "text": [
      "\u0005ǍɛȤΪ̶͎\u0018ɗǇăδʝ\u001d",
      "ȿ=ˢɫȌƞɑȃsϧZɁ˟ŉıƾȜʸȓƔ=ʑ\bΓαȐɥύ\u0000̓b̓ðǱȪ͌ʎŧɺʅǛ̎ƝͿʨ¡ʸ\u0011ͼsʨ³ċĻŨūͦǮű˵ΌʼŉēȪ,Ǟ°ʺɇǌſ3ʜȒ½ƍǊɇːμǢͿ\f",
      "^ǿ\u0018΅ͰάΣɂʺŁÕ·²Œ̕(i̿ƛʸȟϗʝ͓Κ˥ȭưʁμ̹ψŋgʀ˦Ɲ˺˓LÄŇȓKƟɓνǗƐ΂ǉǡSǂ9\\͙Y\u000fSȷāăȋ¿ǈȠϔé̻ŕ̷̖ũŷǑΌ̈Ʌυɍ̳͑a˻ƃȆȓ̬ɨ΂ή̼\"ǇȐɟ̟ȆǛ˞ʉÌ\n"
     ]
    }
   ],
   "source": [
    "print(convert_to_string(encrypted_message))"
   ]
  },
  {
   "cell_type": "markdown",
   "id": "dc657bae",
   "metadata": {},
   "source": [
    "Now anyone that wants to verify if the message was really from Bob can use his public key to decrypt the message"
   ]
  },
  {
   "cell_type": "code",
   "execution_count": 302,
   "id": "7ad44982",
   "metadata": {},
   "outputs": [
    {
     "name": "stdout",
     "output_type": "stream",
     "text": [
      "This message is from Bob!\n"
     ]
    }
   ],
   "source": [
    "decrypted_message = RSA_decrypt(encrypted_message, e, N)\n",
    "print(convert_to_string(decrypted_message))"
   ]
  },
  {
   "cell_type": "markdown",
   "id": "cdf46a9e",
   "metadata": {},
   "source": [
    "# Blinding Attack"
   ]
  },
  {
   "cell_type": "markdown",
   "id": "b224cf23",
   "metadata": {},
   "source": [
    "An attacker can execute what is known as a Blinding attack which will allow the attacker to obtain a message encrypted with the victim's private key"
   ]
  },
  {
   "cell_type": "code",
   "execution_count": 315,
   "id": "d3abf081",
   "metadata": {},
   "outputs": [
    {
     "name": "stdout",
     "output_type": "stream",
     "text": [
      "84114097110115102101114032036049048048048048048048032116111032069118101\n"
     ]
    }
   ],
   "source": [
    "bad_message = \"Transfer $1000000 to Eve\"\n",
    "bad_ascii_message = convert_to_ascii(bad_message)\n",
    "print(bad_ascii_message)"
   ]
  },
  {
   "cell_type": "markdown",
   "id": "9c40267e",
   "metadata": {},
   "source": [
    "Use a random number and raise to the power of public key and multiply it with the message"
   ]
  },
  {
   "cell_type": "code",
   "execution_count": 316,
   "id": "930b00ef",
   "metadata": {},
   "outputs": [
    {
     "name": "stdout",
     "output_type": "stream",
     "text": [
      "232630513987207\n"
     ]
    }
   ],
   "source": [
    "random_number = pow(7, e)\n",
    "print(random_number)\n",
    "bad_ascii_message = bad_ascii_message * random_number"
   ]
  },
  {
   "cell_type": "code",
   "execution_count": 317,
   "id": "db53056e",
   "metadata": {},
   "outputs": [
    {
     "name": "stdout",
     "output_type": "stream",
     "text": [
      "19567505644295919156614934743979004764790938642435431729180738596448018929073686133907\n"
     ]
    }
   ],
   "source": [
    "print(bad_ascii_message)"
   ]
  },
  {
   "cell_type": "code",
   "execution_count": 321,
   "id": "c63b5b6e",
   "metadata": {},
   "outputs": [
    {
     "name": "stdout",
     "output_type": "stream",
     "text": [
      "\u0013ȷǹʄħΗɦΦ˧ϓ\u0004˼̖ΪʂƳƯ˙´ˢɔǀ\u0012ΡIʮ",
      "΋\n"
     ]
    }
   ],
   "source": [
    "print(convert_to_string(bad_ascii_message))"
   ]
  },
  {
   "cell_type": "markdown",
   "id": "73af353e",
   "metadata": {},
   "source": [
    "If the attacker somehow manages to get the recipient to sign it, the attacker will be able to obtained a message signed with the victim's private key"
   ]
  },
  {
   "cell_type": "code",
   "execution_count": 318,
   "id": "cc8f8d33",
   "metadata": {},
   "outputs": [
    {
     "name": "stdout",
     "output_type": "stream",
     "text": [
      "6312036335314889907034229202834320248793345720608898608224841681082226394410151679986235724042065109715570758091158229300712341836832731368478870731969980715909633109825363760122891341540691963577863639491464356919712113558048331278855188911762081159413281676409957654689077599522152250801354421905910298741958685694300105916924267872517997566715333301283776139639328503438683777061285244336465129149918434162421209470172371920392807295184597339662074945612781453357530285853371536239468518925340277955710032227599650836637293318018128594401682508991476791528965523311584299581513246656624802853255985351377660467667\n"
     ]
    }
   ],
   "source": [
    "bad_encrypted_message = RSA_encrypt(bad_ascii_message, d, N)\n",
    "print(bad_encrypted_message)"
   ]
  },
  {
   "cell_type": "markdown",
   "id": "8c4e3ca5",
   "metadata": {},
   "source": [
    "Attacker can retrieve the signed message by multipling the inverse of 7 with the encrypted message and then mod N"
   ]
  },
  {
   "cell_type": "code",
   "execution_count": 319,
   "id": "f9dd9bee",
   "metadata": {},
   "outputs": [
    {
     "name": "stdout",
     "output_type": "stream",
     "text": [
      "4841680039278317503356383265130068986595015960567253628499202791475350217770384367413287205257171737961634217739669688698241861076783285694411741730216488223166833015157192127398439159417808743842289478628512390060366806462405563616291680556261084818188941228892069682714968526281137691317182390286141520495926739519883342531894027776609136013077221086172936201452533972420647109056051974318917969255970388037333616557599171017407765718420722817487089615284134556492442617987079076701107256121183061525969762534529697805788354591029103325283191203757828654283171831173345246296484076804596074608537746254588078714244\n"
     ]
    }
   ],
   "source": [
    "signed_message = (bad_encrypted_message * pow(7, -1, N)) % N\n",
    "print(signed_message)"
   ]
  },
  {
   "cell_type": "markdown",
   "id": "a615bca1",
   "metadata": {},
   "source": [
    "Decrypt with public key, this message is encrypted with Bob's public key!"
   ]
  },
  {
   "cell_type": "code",
   "execution_count": 320,
   "id": "ae82c5d3",
   "metadata": {},
   "outputs": [
    {
     "name": "stdout",
     "output_type": "stream",
     "text": [
      "Transfer $1000000 to Eve\n"
     ]
    }
   ],
   "source": [
    "decrypted_message = RSA_decrypt(signed_message, e, N)\n",
    "print(convert_to_string(decrypted_message))"
   ]
  },
  {
   "cell_type": "markdown",
   "id": "cf612260",
   "metadata": {},
   "source": [
    "# Conclusion"
   ]
  },
  {
   "cell_type": "markdown",
   "id": "cf7c5b87",
   "metadata": {},
   "source": [
    "The signer can pad the message after receiving it but before signing it\n",
    "\n",
    "Let f be some sort of padding function,\n",
    "\n",
    "m'= m * r^e mod N to be the tampered message\n",
    "\n",
    "The signer pads the m', m'' = f(m') and then signs it, (m'')^d mod N\n",
    "\n",
    "If the attacker tries to unblind, they will not be able to get the signed message"
   ]
  }
 ],
 "metadata": {
  "kernelspec": {
   "display_name": "Python 3 (ipykernel)",
   "language": "python",
   "name": "python3"
  },
  "language_info": {
   "codemirror_mode": {
    "name": "ipython",
    "version": 3
   },
   "file_extension": ".py",
   "mimetype": "text/x-python",
   "name": "python",
   "nbconvert_exporter": "python",
   "pygments_lexer": "ipython3",
   "version": "3.8.5"
  }
 },
 "nbformat": 4,
 "nbformat_minor": 5
}
