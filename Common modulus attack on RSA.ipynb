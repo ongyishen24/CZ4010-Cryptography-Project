{
 "cells": [
  {
   "cell_type": "code",
   "execution_count": 5,
   "metadata": {
    "id": "n8msROD7dYzC"
   },
   "outputs": [],
   "source": [
    "import random\n",
    "import secrets"
   ]
  },
  {
   "cell_type": "code",
   "execution_count": 6,
   "metadata": {
    "id": "581f7e0f"
   },
   "outputs": [],
   "source": [
    "def gcd(a, b):\n",
    "    while(b):\n",
    "        a, b = b, a % b \n",
    "    return a"
   ]
  },
  {
   "cell_type": "code",
   "execution_count": 7,
   "metadata": {
    "id": "7381fd44"
   },
   "outputs": [],
   "source": [
    "def RMPT(p, s): #Assuming number of bits > 600\n",
    "    q = p - 1\n",
    "    k = 0\n",
    "    while q % 2 != 1:\n",
    "        q //= 2\n",
    "        k += 1\n",
    "        \n",
    "    for _ in range(s):\n",
    "        a = random.randrange(3, p - 2)      \n",
    "        while gcd(a, p) != 1:\n",
    "            a = random.randrange(3, p - 2)\n",
    "        \n",
    "        z = pow(a, q, p)\n",
    "        \n",
    "        if z == 1 or z == p - 1:\n",
    "            continue #Not a witness, pick another a\n",
    "        \n",
    "        for i in range(1, k):\n",
    "            z = pow(a, pow(2, i)*q, p)\n",
    "            if z == p - 1:\n",
    "                break #Not a witness, pick another a\n",
    "        else:\n",
    "            return False  #a^((2^K)*Q)modP != -1 for all values of K, it is a witness, therefore its definitely not prime\n",
    "        \n",
    "    return True #After S iterations still not a composite, chance to be a prime"
   ]
  },
  {
   "cell_type": "code",
   "execution_count": null,
   "metadata": {
    "id": "df27385f"
   },
   "outputs": [],
   "source": [
    "def convert_to_ascii(message):\n",
    "    ascii_message = \"\"\n",
    "    for char in message:\n",
    "        ascii_char = ord(char)\n",
    "        ascii_char = str(ascii_char)\n",
    "        ascii_char = ascii_char.zfill(3)\n",
    "        ascii_message += ascii_char\n",
    "    return int(ascii_message)"
   ]
  },
  {
   "cell_type": "code",
   "execution_count": null,
   "metadata": {
    "id": "79d3bd66"
   },
   "outputs": [],
   "source": [
    "from textwrap import wrap\n",
    "\n",
    "def convert_to_string(ascii_message):\n",
    "    message = \"\"\n",
    "    ascii_message = str(ascii_message)\n",
    "    if(len(ascii_message) % 3 != 0):\n",
    "        for _ in range(3 - len(ascii_message) % 3):\n",
    "            ascii_message = \"0\" + ascii_message\n",
    "    ascii_list = wrap(ascii_message, 3)\n",
    "    for ascii in ascii_list:\n",
    "        message = message + chr(int(ascii))\n",
    "    return message"
   ]
  },
  {
   "cell_type": "code",
   "execution_count": null,
   "metadata": {
    "id": "39a03b2b"
   },
   "outputs": [],
   "source": [
    "def RSA_generate_D(e, p, q):\n",
    "    N = p * q\n",
    "    phi_N = (p - 1) * (q - 1)\n",
    "    assert gcd(e, phi_N) == 1, \"GCD of e and phi N must be 1\"\n",
    "    d = pow(e, -1, phi_N)\n",
    "    return d"
   ]
  },
  {
   "cell_type": "code",
   "execution_count": null,
   "metadata": {
    "id": "83a0fe01"
   },
   "outputs": [],
   "source": [
    "def RSA_encrypt(ascii_message, e, N):\n",
    "    encrypted_message = pow(ascii_message, e, N)\n",
    "    return encrypted_message"
   ]
  },
  {
   "cell_type": "code",
   "execution_count": null,
   "metadata": {
    "id": "4a552e0a"
   },
   "outputs": [],
   "source": [
    "def Generate_Prime(bit_length, RMPT_rounds):   \n",
    "    while(True):\n",
    "        num = secrets.randbits(bit_length)\n",
    "        \n",
    "        #If number is even, make it odd\n",
    "        if num%2 == 0:\n",
    "            num += 1\n",
    "        #Try factorize using small primes\n",
    "        elif num%3 == 0:\n",
    "            continue\n",
    "        elif num%5 == 0:\n",
    "            continue\n",
    "        elif num%7 == 0:\n",
    "            continue\n",
    "        elif num%11 == 0:\n",
    "            continue\n",
    "        #Try the expensive Rabin-Miller Primality Test\n",
    "        elif RMPT(num, RMPT_rounds):\n",
    "            print(num)\n",
    "            return num"
   ]
  },
  {
   "cell_type": "code",
   "execution_count": null,
   "metadata": {
    "id": "xjqp7yI92nAm"
   },
   "outputs": [],
   "source": []
  },
  {
   "cell_type": "markdown",
   "metadata": {
    "id": "EWib8axGfPUP"
   },
   "source": [
    "Demo of the attack\n",
    "\n",
    "Preparation of variables"
   ]
  },
  {
   "cell_type": "code",
   "execution_count": null,
   "metadata": {
    "colab": {
     "base_uri": "https://localhost:8080/"
    },
    "id": "c272f118",
    "outputId": "cb43ecd3-8274-4085-d6fc-11b0ae505305"
   },
   "outputs": [],
   "source": [
    "p = Generate_Prime(1024, 15)"
   ]
  },
  {
   "cell_type": "code",
   "execution_count": null,
   "metadata": {
    "colab": {
     "base_uri": "https://localhost:8080/"
    },
    "id": "0ea1d4b7",
    "outputId": "7b9ef52c-c162-494e-b286-898ddbdb4faf"
   },
   "outputs": [],
   "source": [
    "q = Generate_Prime(1024, 15)"
   ]
  },
  {
   "cell_type": "code",
   "execution_count": null,
   "metadata": {
    "id": "17343c28"
   },
   "outputs": [],
   "source": [
    "N = p * q"
   ]
  },
  {
   "cell_type": "code",
   "execution_count": null,
   "metadata": {
    "id": "nCe4EcfQfRsF"
   },
   "outputs": [],
   "source": [
    "e1=17"
   ]
  },
  {
   "cell_type": "code",
   "execution_count": null,
   "metadata": {
    "id": "Jj3ZOmNJfUmz"
   },
   "outputs": [],
   "source": [
    "e2=257"
   ]
  },
  {
   "cell_type": "code",
   "execution_count": null,
   "metadata": {
    "id": "2b18411b"
   },
   "outputs": [],
   "source": [
    "d1 = RSA_generate_D(e1, p, q)"
   ]
  },
  {
   "cell_type": "code",
   "execution_count": null,
   "metadata": {
    "id": "CrRFqCZCfXRG"
   },
   "outputs": [],
   "source": [
    "d2 = RSA_generate_D(e2, p, q)"
   ]
  },
  {
   "cell_type": "code",
   "execution_count": null,
   "metadata": {
    "colab": {
     "base_uri": "https://localhost:8080/"
    },
    "id": "99f18d46",
    "outputId": "7b40c747-18c8-4e96-dc0e-15c3d851b220"
   },
   "outputs": [],
   "source": [
    "message = \"For this operation to succeed, both of you need to be mobilized simultaneously. You'll meet your partner once you get there.\"\n",
    "\n",
    "ascii_message = convert_to_ascii(message)\n",
    "print(ascii_message)\n",
    "ascii_message.bit_length()"
   ]
  },
  {
   "cell_type": "markdown",
   "metadata": {
    "id": "Iqxdhq95z394"
   },
   "source": [
    "Encryptions"
   ]
  },
  {
   "cell_type": "code",
   "execution_count": null,
   "metadata": {
    "id": "78faf606"
   },
   "outputs": [],
   "source": [
    "encrypted_message_1 = RSA_encrypt(ascii_message, e1, N)"
   ]
  },
  {
   "cell_type": "code",
   "execution_count": null,
   "metadata": {
    "id": "K9dNobVBfdIV"
   },
   "outputs": [],
   "source": [
    "encrypted_message_2 = RSA_encrypt(ascii_message, e2, N)"
   ]
  },
  {
   "cell_type": "markdown",
   "metadata": {
    "id": "uSWaelc-z509"
   },
   "source": [
    "Decryptions"
   ]
  },
  {
   "cell_type": "code",
   "execution_count": null,
   "metadata": {
    "id": "fb686b7d"
   },
   "outputs": [],
   "source": [
    "decrypted_message_1 = RSA_encrypt(encrypted_message_1, d1, N)"
   ]
  },
  {
   "cell_type": "code",
   "execution_count": null,
   "metadata": {
    "id": "Soow0CSjfl2t"
   },
   "outputs": [],
   "source": [
    "decrypted_message_2 = RSA_encrypt(encrypted_message_2, d2, N)"
   ]
  },
  {
   "cell_type": "markdown",
   "metadata": {
    "id": "Siix7Ytl0Hrk"
   },
   "source": [
    "Calculating a1 and a2"
   ]
  },
  {
   "cell_type": "code",
   "execution_count": null,
   "metadata": {
    "id": "tXCKjvVhf-5M"
   },
   "outputs": [],
   "source": [
    "a1=pow(e1,-1,e2)"
   ]
  },
  {
   "cell_type": "code",
   "execution_count": null,
   "metadata": {
    "id": "oBLySam3lM-Q"
   },
   "outputs": [],
   "source": [
    "a2=int((1-(e1*a1))/e2)"
   ]
  },
  {
   "cell_type": "markdown",
   "metadata": {
    "id": "ArPuLn5Q0NUu"
   },
   "source": [
    "Attempt to decrypt: encrypted_message_1^a1 mod N"
   ]
  },
  {
   "cell_type": "code",
   "execution_count": null,
   "metadata": {
    "id": "8raMXxX7lnBt"
   },
   "outputs": [],
   "source": [
    "decrypt_attempt_1=(pow(encrypted_message_1,a1,N))"
   ]
  },
  {
   "cell_type": "markdown",
   "metadata": {
    "id": "BQekhs5n0YLC"
   },
   "source": [
    "Attempt to decrypt: encrypted_message_2^a2 mod N. Since a2 is negative, we inverse this message to mod N and power it with (-a2)"
   ]
  },
  {
   "cell_type": "code",
   "execution_count": null,
   "metadata": {
    "id": "-5YyT4j6xma5"
   },
   "outputs": [],
   "source": [
    "encrypt_inverse=pow(encrypted_message_2,-1,N)"
   ]
  },
  {
   "cell_type": "code",
   "execution_count": null,
   "metadata": {
    "id": "HVlhg40Cxz7r"
   },
   "outputs": [],
   "source": [
    "decrypt_attempt_2=(pow(encrypt_inverse,(-a2),N))"
   ]
  },
  {
   "cell_type": "markdown",
   "metadata": {
    "id": "IbkTBttW0vsb"
   },
   "source": [
    "Multiply them together"
   ]
  },
  {
   "cell_type": "code",
   "execution_count": null,
   "metadata": {
    "id": "zluL785dyOlC"
   },
   "outputs": [],
   "source": [
    "decrypt_attempt=(decrypt_attempt_1*decrypt_attempt_2)%N"
   ]
  },
  {
   "cell_type": "markdown",
   "metadata": {
    "id": "gPfW3CDt0x_h"
   },
   "source": [
    "Check decrypted messages of both recipients"
   ]
  },
  {
   "cell_type": "code",
   "execution_count": null,
   "metadata": {
    "colab": {
     "base_uri": "https://localhost:8080/",
     "height": 35
    },
    "id": "1xfTMwVYyVJr",
    "outputId": "a9503262-c48d-423a-c80f-cfda612bdde0"
   },
   "outputs": [],
   "source": [
    "convert_to_string(decrypted_message_1)"
   ]
  },
  {
   "cell_type": "code",
   "execution_count": null,
   "metadata": {
    "colab": {
     "base_uri": "https://localhost:8080/",
     "height": 35
    },
    "id": "KDJ-au_YydBr",
    "outputId": "15fa48a1-ef86-45e9-85b0-bf12d4d6be5a"
   },
   "outputs": [],
   "source": [
    "convert_to_string(decrypted_message_2)"
   ]
  },
  {
   "cell_type": "markdown",
   "metadata": {
    "id": "692ikRVx01z7"
   },
   "source": [
    "Did the eavesdropping succeed?"
   ]
  },
  {
   "cell_type": "code",
   "execution_count": null,
   "metadata": {
    "colab": {
     "base_uri": "https://localhost:8080/",
     "height": 35
    },
    "id": "EQTsMc7PyfED",
    "outputId": "fdcc6fd1-515c-4b15-e326-04f6b6183f1e"
   },
   "outputs": [],
   "source": [
    "convert_to_string(decrypt_attempt)"
   ]
  }
 ],
 "metadata": {
  "colab": {
   "name": "Common modulus attack demo.ipynb",
   "provenance": []
  },
  "kernelspec": {
   "display_name": "Python 3 (ipykernel)",
   "language": "python",
   "name": "python3"
  },
  "language_info": {
   "codemirror_mode": {
    "name": "ipython",
    "version": 3
   },
   "file_extension": ".py",
   "mimetype": "text/x-python",
   "name": "python",
   "nbconvert_exporter": "python",
   "pygments_lexer": "ipython3",
   "version": "3.8.12"
  }
 },
 "nbformat": 4,
 "nbformat_minor": 1
}
