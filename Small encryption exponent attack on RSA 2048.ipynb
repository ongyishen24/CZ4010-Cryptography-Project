{
 "cells": [
  {
   "cell_type": "code",
   "execution_count": 1,
   "id": "0fb89612",
   "metadata": {},
   "outputs": [],
   "source": [
    "#Requires Python 3.8+ for inverse mod using pow()"
   ]
  },
  {
   "cell_type": "markdown",
   "id": "096d3f4a",
   "metadata": {},
   "source": [
    "# Imports"
   ]
  },
  {
   "cell_type": "code",
   "execution_count": 2,
   "id": "6ab4cd57",
   "metadata": {},
   "outputs": [],
   "source": [
    "import random\n",
    "import secrets\n",
    "from decimal import *"
   ]
  },
  {
   "cell_type": "markdown",
   "id": "9da521a0",
   "metadata": {},
   "source": [
    "# Functions"
   ]
  },
  {
   "cell_type": "markdown",
   "id": "383bb97a",
   "metadata": {},
   "source": [
    "Returns the GCD of 2 numbers"
   ]
  },
  {
   "cell_type": "code",
   "execution_count": 3,
   "id": "5464dd73",
   "metadata": {},
   "outputs": [],
   "source": [
    "def gcd(a, b):\n",
    "    while(b):\n",
    "        a, b = b, a % b \n",
    "    return a"
   ]
  },
  {
   "cell_type": "markdown",
   "id": "c9f0b85e",
   "metadata": {},
   "source": [
    "Rabin-Miller Primality Test<br>\n",
    "Checks if a number is prime, p is the number to be tested, s is the number of rounds<br>\n",
    "Number of rounds should ensure that the probability of p not being prime is < 2^(-80) "
   ]
  },
  {
   "cell_type": "code",
   "execution_count": 4,
   "id": "6679c69c",
   "metadata": {},
   "outputs": [],
   "source": [
    "def RMPT(p, s):\n",
    "    q = p - 1\n",
    "    k = 0\n",
    "    while q % 2 != 1:\n",
    "        q //= 2\n",
    "        k += 1\n",
    "        \n",
    "    for _ in range(s):\n",
    "        a = random.randrange(3, p - 2)      \n",
    "        while gcd(a, p) != 1:\n",
    "            a = random.randrange(3, p - 2)\n",
    "        \n",
    "        z = pow(a, q, p)\n",
    "        \n",
    "        if z == 1 or z == p - 1:\n",
    "            continue #Not a witness, pick another a\n",
    "        \n",
    "        for i in range(1, k):\n",
    "            z = pow(a, pow(2, i)*q, p)\n",
    "            if z == p - 1:\n",
    "                break #Not a witness, pick another a\n",
    "        else:\n",
    "            return False  #a^((2^K)*Q)modP != -1 for all values of K, it is a witness, therefore its definitely not prime\n",
    "        \n",
    "    return True #After S iterations still not a composite, chance to be a prime"
   ]
  },
  {
   "cell_type": "markdown",
   "id": "7e577f43",
   "metadata": {},
   "source": [
    "Converts a string to ascii"
   ]
  },
  {
   "cell_type": "code",
   "execution_count": 5,
   "id": "1bc01953",
   "metadata": {},
   "outputs": [],
   "source": [
    "def convert_to_ascii(message):\n",
    "    ascii_message = \"\"\n",
    "    for char in message:\n",
    "        ascii_char = ord(char)\n",
    "        ascii_char = str(ascii_char)\n",
    "        ascii_char = ascii_char.zfill(3)\n",
    "        ascii_message += ascii_char\n",
    "    return int(ascii_message)"
   ]
  },
  {
   "cell_type": "markdown",
   "id": "8d9e4614",
   "metadata": {},
   "source": [
    "Converts ascii back to string"
   ]
  },
  {
   "cell_type": "code",
   "execution_count": 6,
   "id": "6c26fd7a",
   "metadata": {},
   "outputs": [],
   "source": [
    "from textwrap import wrap\n",
    "\n",
    "def convert_to_string(ascii_message):\n",
    "    message = \"\"\n",
    "    ascii_message = str(ascii_message)\n",
    "    if(len(ascii_message) % 3 != 0):\n",
    "        for _ in range(3 - len(ascii_message) % 3):\n",
    "            ascii_message = \"0\" + ascii_message\n",
    "    ascii_list = wrap(ascii_message, 3)\n",
    "    for ascii in ascii_list:\n",
    "        message = message + chr(int(ascii))\n",
    "    return message"
   ]
  },
  {
   "cell_type": "markdown",
   "id": "ac8b139e",
   "metadata": {},
   "source": [
    "Generates the decryption key using public key e and 2 prime numbers p and q"
   ]
  },
  {
   "cell_type": "code",
   "execution_count": 7,
   "id": "63f5f453",
   "metadata": {},
   "outputs": [],
   "source": [
    "def RSA_generate_D(e, p, q):\n",
    "    N = p * q\n",
    "    phi_N = (p - 1) * (q - 1)\n",
    "    assert gcd(e, phi_N) == 1, \"GCD of e and phi N must be 1\"\n",
    "    d = pow(e, -1, phi_N)\n",
    "    return d"
   ]
  },
  {
   "cell_type": "markdown",
   "id": "3c8ef73d",
   "metadata": {},
   "source": [
    "Encrypts a number with public key e"
   ]
  },
  {
   "cell_type": "code",
   "execution_count": 8,
   "id": "53f62355",
   "metadata": {},
   "outputs": [],
   "source": [
    "def RSA_encrypt(ascii_message, e, N):\n",
    "    encrypted_message = pow(ascii_message, e, N)\n",
    "    return encrypted_message"
   ]
  },
  {
   "cell_type": "markdown",
   "id": "d515efb8",
   "metadata": {},
   "source": [
    "Encrypts a number using private key d"
   ]
  },
  {
   "cell_type": "code",
   "execution_count": 9,
   "id": "508a53d4",
   "metadata": {},
   "outputs": [],
   "source": [
    "def RSA_decrypt(encrypted_message, d, N):\n",
    "    ascii_message = pow(encrypted_message, d, N)\n",
    "    return ascii_message"
   ]
  },
  {
   "cell_type": "markdown",
   "id": "a389ea89",
   "metadata": {},
   "source": [
    "Continuously generates random bit_length numbers<br>\n",
    "If number is even, adds one to make it odd<br>\n",
    "Tries to factorize the number with small primes to determine if composite<br>\n",
    "Uses Rabin-Miller Primality Test if it is still possible to be a prime number"
   ]
  },
  {
   "cell_type": "code",
   "execution_count": 10,
   "id": "af3da1c8",
   "metadata": {},
   "outputs": [],
   "source": [
    "def Generate_Prime(bit_length, RMPT_rounds):   \n",
    "    while(True):\n",
    "        num = secrets.randbits(bit_length)\n",
    "        \n",
    "        #If number is even, make it odd\n",
    "        if num%2 == 0:\n",
    "            num += 1\n",
    "        #Try factorize using small primes\n",
    "        elif num%3 == 0:\n",
    "            continue\n",
    "        elif num%5 == 0:\n",
    "            continue\n",
    "        elif num%7 == 0:\n",
    "            continue\n",
    "        elif num%11 == 0:\n",
    "            continue\n",
    "        #Try the expensive Rabin-Miller Primality Test\n",
    "        elif RMPT(num, RMPT_rounds):\n",
    "            print(num)\n",
    "            return num"
   ]
  },
  {
   "cell_type": "code",
   "execution_count": 12,
   "id": "88eea00c",
   "metadata": {},
   "outputs": [],
   "source": [
    "#Workaround for getting the cube root of a huge integer\n",
    "\n",
    "def cube_root(encrypted_message):\n",
    "    minprec = 27\n",
    "\n",
    "    encrypted_message_len = len(str(encrypted_message))\n",
    "\n",
    "    if encrypted_message_len > minprec: \n",
    "        getcontext().prec = encrypted_message_len\n",
    "    else:\n",
    "        getcontext().prec = minprec\n",
    "\n",
    "    encrypted_message = Decimal(encrypted_message)\n",
    "    power = Decimal(1)/Decimal(3)\n",
    "\n",
    "    #Gets cube root of encrypted message\n",
    "    decrypted_message = encrypted_message**power\n",
    "    decrypted_message = int(decrypted_message.quantize(Decimal('1.'), rounding=ROUND_UP))\n",
    "    \n",
    "    return decrypted_message"
   ]
  },
  {
   "cell_type": "markdown",
   "id": "f9b97c15",
   "metadata": {},
   "source": [
    "# RSA 1024"
   ]
  },
  {
   "cell_type": "markdown",
   "id": "88eb2aee",
   "metadata": {},
   "source": [
    "Let's try to encrypt a message using RSA 1024"
   ]
  },
  {
   "cell_type": "markdown",
   "id": "612ce2b2",
   "metadata": {},
   "source": [
    "Generate the primes p q\n",
    "\n",
    "Use encryption exponent of 3\n",
    "\n",
    "Get decryption exponent"
   ]
  },
  {
   "cell_type": "code",
   "execution_count": 15,
   "id": "e0f0ecd6",
   "metadata": {},
   "outputs": [
    {
     "name": "stdout",
     "output_type": "stream",
     "text": [
      "112588216933712141833313659369581251391630663547102258784653079438460561505802995325408504468058806831639122071319708672182025364815269766213872880033386354133333383246516794596138550124122446934990547646603568497485101118370199993016844160244641141390544027025305543263615034868758613179218543543889325249819\n",
      "84974291671954344442838089942265385184205825692749121866005599299341152321517076421862279342400068139382458911907533561410695137359694809596024008687398476228526476783947292853544301434676557523582030508698348061627424403938888390105104334528273634192955959752957371983072079958083884987762040393037735903881\n",
      "65988679970268430850912068736224806199661825407235101773604210196317085353658554151647824718500114682221912826579056651411055210797178028729226193132469715304591432889638779857317481246441508852518450610599811586759924011070479349335082442081824750830889381153699064315938093417122873947962293898757719450943\n",
      "89036688184368113801493469619240772156712172739888242030802436782751669529508675148635039425361396157790654005103893032554111628711279514879593750363882095168661038316578670693564572241684265480959412813088775518511661893181378704496430064697093752164889650325284205816796520878584255187520391752910151887733\n",
      "169414310953857448550803660380796372371288368783466973929249912741512763123027930650728259150239104478664773761215393751217319928258462272214965610484556336328000799437267945756269793492190175443607131366132481152193477520933267815503016106621441111375352263626730026752384549539959411635760947707491916269449\n",
      "80898612881614716184323870511666503718035288903201096656935970550232555069655710638235706729067363953038690307734413727742030159828928304143086249274662611306325423451490348006792561349212857908823769025781617883307681346899312740994031437562770333938808363065426028552406582167709296329204236613248403279409\n",
      "30786972913504219673513851460922259350777919254304950142552752511003003281583032487768676336993657444095187974615040102105559282436678988120945049831387477221910691842268182157444036377104063952079779978298905647654896945146137931057538113338198048305144768806137065693356004860698663608291212974542566640129\n",
      "79044318320601666128444715262239111001427805046469667251280550365183804805068629409962118844395066420654644186874239741687230733991234198086109115556667938949655112222424143203285628696944834885922960799545390295831162035443629866771011421314823671326693277946683396114675971665538651756938116254690968366881\n",
      "94517982715845807436808135109663303090793952122863894443864255333411025496663501769352210404641565021049713414337152222247117923281061738636714197423151240546551281697933867113726010939872451734308744939051989080394664603912284790768223714627370045585710549806674023002494289498950793903287782698409980930893\n",
      "28349499109693094998499786723778296808274294307574355286663277225106926705153784524559022889989491379872789204036119752337269756904538811581064081816516402958690958818064079868322171870416687157614178189660696412421997742278955045123679493051140010950513640623814468039901148501487010597070190990213620645599\n",
      "20342534107028668182722090042843184762395613236022365013109063664033225432351173502990102163247550777099639617554509385610225576520270770364412796495313742603438565517611836088084093097129967537199684415280995488318508183874305865980576642442952237802242954380301030697927768872185685083895986540110960112739\n",
      "160111861689469924384339026895878329979694417028259072744028436395275574134141444746541826303105680334439440979355543534655276346843569172800113763007539854808282725562150320251946706441786141702801134564426947960045646315283331121611802548401897931026903142763362327147553250747709683356798425994502075915763\n",
      "126135591453082832007397041658989894572390850738592654672437238217663330587994870697931046684808129874898052202238758662627818972541796297082228517838208980686353711065642857756951472021421542776365327624771744377163810697891053172440529846925627117778431878822366568271637325727702171296363569499505712772201\n",
      "164187808851595506500639146057908012842404092706576180022297257782442369887590866805372257685250262590854607475292035526682497598800556697974732679265855925444681841157069614663733268044180546135906484361087478194057839018872125877138798023388448590005703276939411952621866900355296294475373248368577170223829\n",
      "47626512660859240962565039111492135408427349550679117368896117334888839559930250691204494291864666183227123815780347825928589771705017606455819823113312470146402413204966091403916900598198627377565479144043344381900653057937766964753483342865405733110159838092243565023878752821886400204518934046386805440249\n",
      "125079873924643094582419753224017608456744666582013915747999695493044895521552959801669202259634363051396876390665434384851537637884696233528733892196700185724642874319013070905953716971245036776365065968576841425189227630939700177402619824390285601525295646060043102356099311845825910438771939634293244573441\n",
      "106039020252626498851215556631448809474590737917189343108733120565223183003582355525926263948671575582522484192842216688720785877227372182775591021531924970003979251656752486347851788989470277627791609453717636156498221712011873203774289696451287875610096466067007938352026485170489517190198329007995073445171\n",
      "130932902278907486535552745602187071193082512405910053953894093665853902301430112398856781494970426483747960736995730856629403006417045511840560162975124482804469018901297303495011550883364448297719809544497801288304730143125014640055609403035938887012788220126534433534616441216960043283984972818219462260379\n",
      "19887362901072371794689197088886946866464252587653290280713038021506884210350408301122980173072710530584610371474979136742222701724345523505984326878148142995208384863052931492170771398962333446190318361944447032019440703376539427931089238479503694774255754512797303799443590816877491206505353562306094218341\n",
      "15128634556232436459858507248438488119741280766885018582394995379265143711664248154590638400602046092208565941948388573262914213688294170546082994523177888806232114412747221278069785340029989025964540642790157330504550816643580291567375302699630744068237805714501151213703178788513454820165935025864617229431\n",
      "16374458384001297958508017326889110341823929350635632924956346044027402373995614981133661886860065953868376309302605278113598278754637665892542778654800756722363281443504637149966586647834815951842611991362572402421175865838038675886091451914108381246776188928137646222895864414485300542304022201547197605291\n",
      "85277788944967065291947439460295837577679536821574301213146254369118011662867773297055699673428478910134039527908551678249358629777657337485081179633971543591021261970387104362945132157057196695440451778864975059537381899746912713774754466460667653134050015444725708579506678235907764322623981250532458850783\n"
     ]
    }
   ],
   "source": [
    "N_test=False\n",
    "e = 3\n",
    "\n",
    "while (N_test==False):\n",
    "    p = Generate_Prime(1024, 3)\n",
    "    q = Generate_Prime(1024, 3)\n",
    "    if (p%e==2 and q%e==2):\n",
    "        N_test=True\n",
    "        \n",
    "d = RSA_generate_D(e, p, q)\n",
    "N = p*q"
   ]
  },
  {
   "cell_type": "code",
   "execution_count": 14,
   "id": "d9509613",
   "metadata": {},
   "outputs": [
    {
     "name": "stdout",
     "output_type": "stream",
     "text": [
      "72101108108111044032116104105115032109101115115097103101032105115032115101099117114101032105110032082083065049048050052032098117116032119101097107032105110032082083065032050048052056032119105116104111117116032112097100100105110103032119105116104032097032115109097108108032101120112111110101110116032111102032051\n"
     ]
    },
    {
     "data": {
      "text/plain": [
       "1033"
      ]
     },
     "execution_count": 14,
     "metadata": {},
     "output_type": "execute_result"
    }
   ],
   "source": [
    "message = \"Hello, this message is secure in RSA1024 but weak in RSA 2048 without padding with a small exponent of 3\"\n",
    "\n",
    "ascii_message = convert_to_ascii(message)\n",
    "print(ascii_message)\n",
    "ascii_message.bit_length()"
   ]
  },
  {
   "cell_type": "code",
   "execution_count": 16,
   "id": "924f17bf",
   "metadata": {},
   "outputs": [],
   "source": [
    "encrypted_message = RSA_encrypt(ascii_message, e, N)"
   ]
  },
  {
   "cell_type": "code",
   "execution_count": 17,
   "id": "5de10679",
   "metadata": {},
   "outputs": [
    {
     "name": "stdout",
     "output_type": "stream",
     "text": [
      "528398647669888288186267753454603680742288977310168927459929307904701676455173556588457727593511499770391924114250910337552762305307445237038765407705218713151645608916235392115708082517776391908682103441943926203178953965945864873253821785979382921476973125534837871909691098606108707720785255483357262153528021303838825202689323394855391222334052982154514309341501130964236689825620161536717130722570873443067253958062819893990169458845595378108359823811352711689104597106868555469975794805064671352750317248762861441238660136994467354597465940390125704167295243134810311637848329452412908487636863234639257844663\n"
     ]
    }
   ],
   "source": [
    "print(encrypted_message)"
   ]
  },
  {
   "cell_type": "markdown",
   "id": "83d5aad1",
   "metadata": {},
   "source": [
    "Python is unable to handle such large numbers for cube root"
   ]
  },
  {
   "cell_type": "code",
   "execution_count": 18,
   "id": "5db5447e",
   "metadata": {},
   "outputs": [
    {
     "ename": "OverflowError",
     "evalue": "int too large to convert to float",
     "output_type": "error",
     "traceback": [
      "\u001b[1;31m---------------------------------------------------------------------------\u001b[0m",
      "\u001b[1;31mOverflowError\u001b[0m                             Traceback (most recent call last)",
      "\u001b[1;32m~\\AppData\\Local\\Temp/ipykernel_10980/2928012364.py\u001b[0m in \u001b[0;36m<module>\u001b[1;34m\u001b[0m\n\u001b[1;32m----> 1\u001b[1;33m \u001b[0mdecrypted_message\u001b[0m \u001b[1;33m=\u001b[0m \u001b[0mencrypted_message\u001b[0m \u001b[1;33m**\u001b[0m \u001b[1;33m(\u001b[0m\u001b[1;36m1\u001b[0m\u001b[1;33m/\u001b[0m\u001b[1;36m3\u001b[0m\u001b[1;33m)\u001b[0m\u001b[1;33m\u001b[0m\u001b[1;33m\u001b[0m\u001b[0m\n\u001b[0m",
      "\u001b[1;31mOverflowError\u001b[0m: int too large to convert to float"
     ]
    }
   ],
   "source": [
    "decrypted_message = encrypted_message ** (1/3)"
   ]
  },
  {
   "cell_type": "markdown",
   "id": "00e31952",
   "metadata": {},
   "source": [
    "Use workaround function to get cube root"
   ]
  },
  {
   "cell_type": "code",
   "execution_count": 19,
   "id": "e55adf89",
   "metadata": {},
   "outputs": [
    {
     "name": "stdout",
     "output_type": "stream",
     "text": [
      "\bTȁʓǙ\u0011ĶŁΑ̝ɯǋ̘Ɔ˕̲Ŷș˽(=#ũ΅ΐȔėϝǉÝIʸϊΙϡͥ̄ɯʵĦǀǓϏſĸȯĆĎŕ˅Ϗͽ˟͹ɝioʖʨǚŘτǛŝͽ;̀Ͱ\n"
     ]
    }
   ],
   "source": [
    "decrypted_message = cube_root(encrypted_message)\n",
    "\n",
    "print(convert_to_string(decrypted_message))"
   ]
  },
  {
   "cell_type": "markdown",
   "id": "632bf23f",
   "metadata": {},
   "source": [
    "Message is still encrypted even after cube root"
   ]
  },
  {
   "cell_type": "markdown",
   "id": "11856dbc",
   "metadata": {},
   "source": [
    "Lets properly decrypt the message now"
   ]
  },
  {
   "cell_type": "code",
   "execution_count": 20,
   "id": "e3558d06",
   "metadata": {},
   "outputs": [],
   "source": [
    "decrypted_message = RSA_encrypt(encrypted_message, d, N)"
   ]
  },
  {
   "cell_type": "code",
   "execution_count": 21,
   "id": "0de11e60",
   "metadata": {},
   "outputs": [
    {
     "name": "stdout",
     "output_type": "stream",
     "text": [
      "Hello, this message is secure in RSA1024 but weak in RSA 2048 without padding with a small exponent of 3\n"
     ]
    }
   ],
   "source": [
    "print(convert_to_string(decrypted_message))"
   ]
  },
  {
   "cell_type": "markdown",
   "id": "0092778a",
   "metadata": {},
   "source": [
    "# RSA 2048"
   ]
  },
  {
   "cell_type": "markdown",
   "id": "7e1a0b00",
   "metadata": {},
   "source": [
    "Let's try to encrypt a message using RSA 2048"
   ]
  },
  {
   "cell_type": "markdown",
   "id": "999c4c12",
   "metadata": {},
   "source": [
    "Generate the primes p q\n",
    "\n",
    "Use encryption exponent of 3 again\n",
    "\n",
    "Get decryption exponent"
   ]
  },
  {
   "cell_type": "code",
   "execution_count": 22,
   "id": "2af75481",
   "metadata": {},
   "outputs": [
    {
     "name": "stdout",
     "output_type": "stream",
     "text": [
      "19638157927142284852216492901946221415788364077789220895501387089023734458491250113825478798508113814176121520562383582904245350856310956531279624785550973472321051193011196915890479097299242156877220401728416914249210932913718255543361068356703292493766732085110704239532885661586082003054253308068220077804801835839356609541754607413914238109848113300640479217137841592410828822610145385941628102514413959364473251662124363752910904378861797469234750695312279509679338135466949157129605893009651487970308352279697560298433276280410387352855000199888062834180673102372316493066085704322432815831231516377948516062739\n",
      "29237289850282491478325240328856616897750638913958965975885987240944427433036724218358988718528867266304043731527281449961335648221964913664443438053182283376726718575125486043250428194651390276834698850798420627045832436427948808379274561888530409833379563007409910934817020095101129564861021933434993998896920551597414173925716871299298350577584526463335830735848860617687348042803702295075310487462284955001578631806503167782340292091573699021265299632225339946781844414545992357902073919204447281694646360313795190714748993475803731960822580544304577104947023132780263918303991906849004966946200338785799734931603\n"
     ]
    }
   ],
   "source": [
    "N_test=False\n",
    "e = 3\n",
    "\n",
    "while (N_test==False):\n",
    "    p = Generate_Prime(2048, 3)\n",
    "    q = Generate_Prime(2048, 3)\n",
    "    if (p%e==2 and q%e==2):\n",
    "        N_test=True\n",
    "        \n",
    "d = RSA_generate_D(e, p, q)\n",
    "N = p*q"
   ]
  },
  {
   "cell_type": "code",
   "execution_count": 23,
   "id": "1b4f8141",
   "metadata": {},
   "outputs": [
    {
     "name": "stdout",
     "output_type": "stream",
     "text": [
      "72101108108111044032116104105115032109101115115097103101032105115032115101099117114101032105110032082083065049048050052032098117116032119101097107032105110032082083065032050048052056032119105116104111117116032112097100100105110103032119105116104032097032115109097108108032101120112111110101110116032111102032051\n"
     ]
    },
    {
     "data": {
      "text/plain": [
       "1033"
      ]
     },
     "execution_count": 23,
     "metadata": {},
     "output_type": "execute_result"
    }
   ],
   "source": [
    "message = \"Hello, this message is secure in RSA1024 but weak in RSA 2048 without padding with a small exponent of 3\"\n",
    "\n",
    "ascii_message = convert_to_ascii(message)\n",
    "print(ascii_message)\n",
    "ascii_message.bit_length()"
   ]
  },
  {
   "cell_type": "code",
   "execution_count": 24,
   "id": "c8a17657",
   "metadata": {},
   "outputs": [],
   "source": [
    "encrypted_message = RSA_encrypt(ascii_message, e, N)"
   ]
  },
  {
   "cell_type": "code",
   "execution_count": 25,
   "id": "9325d803",
   "metadata": {},
   "outputs": [
    {
     "name": "stdout",
     "output_type": "stream",
     "text": [
      "374822642466453503471129234953054526212879179388354880533829447986843654790252314554033043646746764449913639182639657708742449037448950714078946330611043527252186205143428991207943778445949669261828678244029033364957051851646843200248207959737882920354740993629980412340688249208986011917884001719076791515449239894248936982703403870041158347994141996971536956348876306054595083780967728076706532035714204633008080071541961769864324054181130056979714597750740643162189705244532503479892077386565813438424295161109106397041214616802454831180487114975435436195881465431700791503705277369993863949588713707081687514834613488238651365075709738120939125370934830072994404453950653829807147232013328123932604129717807697923904573366449573757101712631775756908010422087048442049253902421391121963980754726364178279941244392279920641838047656797066648613408324642902777263968839370282113878069675238833717309324302239332461043662637827828651\n"
     ]
    }
   ],
   "source": [
    "print(encrypted_message)"
   ]
  },
  {
   "cell_type": "code",
   "execution_count": 26,
   "id": "602167bb",
   "metadata": {},
   "outputs": [
    {
     "name": "stdout",
     "output_type": "stream",
     "text": [
      "ň{Τɜˍ̧ʹΛΈȽŮǁȽ˵eˈɷ̇˴Ό\n",
      "ƦW0ƺ1ýΆƥƇyσϔ˲˖Ŭ²ėέôƈėΘʁ͆/ʐ̝BʈɥƘńʂΆ̉ćψ͇ŲĚqͮEʣî́ˍĵńĮïŌǍ+ʖɽ̻̼ʋ\n"
     ]
    }
   ],
   "source": [
    "print(convert_to_string(encrypted_message))"
   ]
  },
  {
   "cell_type": "markdown",
   "id": "ebce4b06",
   "metadata": {},
   "source": [
    "Since the number of bits of the plain text is much smaller than 2048 bits, even when the plain text raised to the power of 3 it is still smaller than 2048 bits which means the mod operation does nothing, and i can just use the cube root to find the original message"
   ]
  },
  {
   "cell_type": "code",
   "execution_count": 27,
   "id": "db7be867",
   "metadata": {},
   "outputs": [],
   "source": [
    "decrypted_message = cube_root(encrypted_message)"
   ]
  },
  {
   "cell_type": "code",
   "execution_count": 28,
   "id": "d04ce216",
   "metadata": {},
   "outputs": [
    {
     "name": "stdout",
     "output_type": "stream",
     "text": [
      "Hello, this message is secure in RSA1024 but weak in RSA 2048 without padding with a small exponent of 3\n"
     ]
    }
   ],
   "source": [
    "print(convert_to_string(decrypted_message))"
   ]
  },
  {
   "cell_type": "markdown",
   "id": "fd5a1c27",
   "metadata": {},
   "source": [
    "# Conclusions"
   ]
  },
  {
   "cell_type": "markdown",
   "id": "b3172843",
   "metadata": {},
   "source": [
    "This exploit can be avoided by simply padding the original message to make it the same size as N or by choosing a larger exponent"
   ]
  }
 ],
 "metadata": {
  "kernelspec": {
   "display_name": "Python 3 (ipykernel)",
   "language": "python",
   "name": "python3"
  },
  "language_info": {
   "codemirror_mode": {
    "name": "ipython",
    "version": 3
   },
   "file_extension": ".py",
   "mimetype": "text/x-python",
   "name": "python",
   "nbconvert_exporter": "python",
   "pygments_lexer": "ipython3",
   "version": "3.8.12"
  }
 },
 "nbformat": 4,
 "nbformat_minor": 5
}
