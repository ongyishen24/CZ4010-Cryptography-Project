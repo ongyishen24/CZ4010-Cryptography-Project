{
 "cells": [
  {
   "cell_type": "code",
   "execution_count": 31,
   "id": "0fb89612",
   "metadata": {},
   "outputs": [],
   "source": [
    "#Requires Python 3.8+ for inverse mod using pow()"
   ]
  },
  {
   "cell_type": "markdown",
   "id": "096d3f4a",
   "metadata": {},
   "source": [
    "# Imports"
   ]
  },
  {
   "cell_type": "code",
   "execution_count": 32,
   "id": "6ab4cd57",
   "metadata": {},
   "outputs": [],
   "source": [
    "import random\n",
    "import secrets\n",
    "from decimal import *"
   ]
  },
  {
   "cell_type": "markdown",
   "id": "9da521a0",
   "metadata": {},
   "source": [
    "# Functions"
   ]
  },
  {
   "cell_type": "markdown",
   "id": "383bb97a",
   "metadata": {},
   "source": [
    "Returns the GCD of 2 numbers"
   ]
  },
  {
   "cell_type": "code",
   "execution_count": 33,
   "id": "5464dd73",
   "metadata": {},
   "outputs": [],
   "source": [
    "def gcd(a, b):\n",
    "    while(b):\n",
    "        a, b = b, a % b \n",
    "    return a"
   ]
  },
  {
   "cell_type": "markdown",
   "id": "c9f0b85e",
   "metadata": {},
   "source": [
    "Rabin-Miller Primality Test<br>\n",
    "Checks if a number is prime, p is the number to be tested, s is the number of rounds<br>\n",
    "Number of rounds should ensure that the probability of p not being prime is < 2^(-80) "
   ]
  },
  {
   "cell_type": "code",
   "execution_count": 34,
   "id": "6679c69c",
   "metadata": {},
   "outputs": [],
   "source": [
    "def RMPT(p, s):\n",
    "    q = p - 1\n",
    "    k = 0\n",
    "    while q % 2 != 1:\n",
    "        q //= 2\n",
    "        k += 1\n",
    "        \n",
    "    for _ in range(s):\n",
    "        a = random.randrange(3, p - 2)      \n",
    "        while gcd(a, p) != 1:\n",
    "            a = random.randrange(3, p - 2)\n",
    "        \n",
    "        z = pow(a, q, p)\n",
    "        \n",
    "        if z == 1 or z == p - 1:\n",
    "            continue #Not a witness, pick another a\n",
    "        \n",
    "        for i in range(1, k):\n",
    "            z = pow(a, pow(2, i)*q, p)\n",
    "            if z == p - 1:\n",
    "                break #Not a witness, pick another a\n",
    "        else:\n",
    "            return False  #a^((2^K)*Q)modP != -1 for all values of K, it is a witness, therefore its definitely not prime\n",
    "        \n",
    "    return True #After S iterations still not a composite, chance to be a prime"
   ]
  },
  {
   "cell_type": "markdown",
   "id": "7e577f43",
   "metadata": {},
   "source": [
    "Converts a string to ascii"
   ]
  },
  {
   "cell_type": "code",
   "execution_count": 35,
   "id": "1bc01953",
   "metadata": {},
   "outputs": [],
   "source": [
    "def convert_to_ascii(message):\n",
    "    ascii_message = \"\"\n",
    "    for char in message:\n",
    "        ascii_char = ord(char)\n",
    "        ascii_char = str(ascii_char)\n",
    "        ascii_char = ascii_char.zfill(3)\n",
    "        ascii_message += ascii_char\n",
    "    return int(ascii_message)"
   ]
  },
  {
   "cell_type": "markdown",
   "id": "8d9e4614",
   "metadata": {},
   "source": [
    "Converts ascii back to string"
   ]
  },
  {
   "cell_type": "code",
   "execution_count": 36,
   "id": "6c26fd7a",
   "metadata": {},
   "outputs": [],
   "source": [
    "from textwrap import wrap\n",
    "\n",
    "def convert_to_string(ascii_message):\n",
    "    message = \"\"\n",
    "    ascii_message = str(ascii_message)\n",
    "    if(len(ascii_message) % 3 != 0):\n",
    "        for _ in range(3 - len(ascii_message) % 3):\n",
    "            ascii_message = \"0\" + ascii_message\n",
    "    ascii_list = wrap(ascii_message, 3)\n",
    "    for ascii in ascii_list:\n",
    "        message = message + chr(int(ascii))\n",
    "    return message"
   ]
  },
  {
   "cell_type": "markdown",
   "id": "ac8b139e",
   "metadata": {},
   "source": [
    "Generates the decryption key using public key e and 2 prime numbers p and q"
   ]
  },
  {
   "cell_type": "code",
   "execution_count": 37,
   "id": "63f5f453",
   "metadata": {},
   "outputs": [],
   "source": [
    "def RSA_generate_D(e, p, q):\n",
    "    N = p * q\n",
    "    phi_N = (p - 1) * (q - 1)\n",
    "    assert gcd(e, phi_N) == 1, \"GCD of e and phi N must be 1\"\n",
    "    d = pow(e, -1, phi_N)\n",
    "    return d"
   ]
  },
  {
   "cell_type": "markdown",
   "id": "3c8ef73d",
   "metadata": {},
   "source": [
    "Encrypts a number with public key e"
   ]
  },
  {
   "cell_type": "code",
   "execution_count": 38,
   "id": "53f62355",
   "metadata": {},
   "outputs": [],
   "source": [
    "def RSA_encrypt(ascii_message, e, N):\n",
    "    encrypted_message = pow(ascii_message, e, N)\n",
    "    return encrypted_message"
   ]
  },
  {
   "cell_type": "markdown",
   "id": "d515efb8",
   "metadata": {},
   "source": [
    "Encrypts a number using private key d"
   ]
  },
  {
   "cell_type": "code",
   "execution_count": 39,
   "id": "508a53d4",
   "metadata": {},
   "outputs": [],
   "source": [
    "def RSA_decrypt(encrypted_message, d, N):\n",
    "    ascii_message = pow(encrypted_message, d, N)\n",
    "    return ascii_message"
   ]
  },
  {
   "cell_type": "markdown",
   "id": "a389ea89",
   "metadata": {},
   "source": [
    "Continuously generates random bit_length numbers<br>\n",
    "If number is even, adds one to make it odd<br>\n",
    "Tries to factorize the number with small primes to determine if composite<br>\n",
    "Uses Rabin-Miller Primality Test if it is still possible to be a prime number"
   ]
  },
  {
   "cell_type": "code",
   "execution_count": 40,
   "id": "af3da1c8",
   "metadata": {},
   "outputs": [],
   "source": [
    "def Generate_Prime(bit_length, RMPT_rounds):   \n",
    "    while(True):\n",
    "        num = secrets.randbits(bit_length)\n",
    "        \n",
    "        #If number is even, make it odd\n",
    "        if num%2 == 0:\n",
    "            num += 1\n",
    "        #Try factorize using small primes\n",
    "        elif num%3 == 0:\n",
    "            continue\n",
    "        elif num%5 == 0:\n",
    "            continue\n",
    "        elif num%7 == 0:\n",
    "            continue\n",
    "        elif num%11 == 0:\n",
    "            continue\n",
    "        #Try the expensive Rabin-Miller Primality Test\n",
    "        elif RMPT(num, RMPT_rounds):\n",
    "            print(num)\n",
    "            return num"
   ]
  },
  {
   "cell_type": "code",
   "execution_count": 65,
   "id": "88eea00c",
   "metadata": {},
   "outputs": [],
   "source": [
    "#Workaround for getting the cube root of a huge integer\n",
    "\n",
    "def cube_root(encrypted_message):\n",
    "    minprec = 27\n",
    "\n",
    "    encrypted_message_len = len(str(encrypted_message))\n",
    "\n",
    "    if encrypted_message_len > minprec: \n",
    "        getcontext().prec = encrypted_message_len\n",
    "    else:\n",
    "        getcontext().prec = minprec\n",
    "\n",
    "    encrypted_message = Decimal(encrypted_message)\n",
    "    power = Decimal(1)/Decimal(3)\n",
    "\n",
    "    #Gets cube root of encrypted message\n",
    "    decrypted_message = encrypted_message**power\n",
    "    decrypted_message = int(decrypted_message.quantize(Decimal('1.'), rounding=ROUND_UP))\n",
    "    \n",
    "    return decrypted_message"
   ]
  },
  {
   "cell_type": "markdown",
   "id": "f9b97c15",
   "metadata": {},
   "source": [
    "# RSA 1024"
   ]
  },
  {
   "cell_type": "markdown",
   "id": "88eb2aee",
   "metadata": {},
   "source": [
    "Let's try to encrypt a message using RSA 1024"
   ]
  },
  {
   "cell_type": "markdown",
   "id": "612ce2b2",
   "metadata": {},
   "source": [
    "Generate the primes p q\n",
    "\n",
    "Use encryption exponent of 3\n",
    "\n",
    "Get decryption exponent"
   ]
  },
  {
   "cell_type": "code",
   "execution_count": 49,
   "id": "e0f0ecd6",
   "metadata": {},
   "outputs": [
    {
     "name": "stdout",
     "output_type": "stream",
     "text": [
      "83554548638708630055736280767356681884944817077264512694443649279240132573527757309626748557829326571861172138223452534622163470029542756197959820198402167763890281962190101712418785560179025928801364851671040058631401137296475933476031647350735753732761045999155254717806349732309566083193986657428606222741\n",
      "104873440792724051748038298728921401360478503541686052469900979542629873361719654747621407995123529656408294679275801098624229328307019418953593669613091822577484269399676466326935692058892495209063210704041862250238703377678452163842744860705001761800666930663424021157741278268822381019887581440779391317183\n"
     ]
    }
   ],
   "source": [
    "p = Generate_Prime(1024, 3)\n",
    "q = Generate_Prime(1024, 3)\n",
    "N = p * q\n",
    "\n",
    "e = 3\n",
    "\n",
    "#Rerun this cell if if GCD of e and phi N not 1 (Might take a few retries)\n",
    "d = RSA_generate_D(e, p, q)"
   ]
  },
  {
   "cell_type": "code",
   "execution_count": 50,
   "id": "d9509613",
   "metadata": {},
   "outputs": [
    {
     "name": "stdout",
     "output_type": "stream",
     "text": [
      "72101108108111044032116104105115032109101115115097103101032105115032115101099117114101032105110032082083065049048050052032098117116032119101097107032105110032082083065032050048052056032119105116104111117116032112097100100105110103032119105116104032097032115109097108108032101120112111110101110116032111102032051\n"
     ]
    },
    {
     "data": {
      "text/plain": [
       "1033"
      ]
     },
     "execution_count": 50,
     "metadata": {},
     "output_type": "execute_result"
    }
   ],
   "source": [
    "message = \"Hello, this message is secure in RSA1024 but weak in RSA 2048 without padding with a small exponent of 3\"\n",
    "\n",
    "ascii_message = convert_to_ascii(message)\n",
    "print(ascii_message)\n",
    "ascii_message.bit_length()"
   ]
  },
  {
   "cell_type": "code",
   "execution_count": 73,
   "id": "924f17bf",
   "metadata": {},
   "outputs": [],
   "source": [
    "encrypted_message = RSA_encrypt(ascii_message, e, N)"
   ]
  },
  {
   "cell_type": "code",
   "execution_count": 74,
   "id": "5de10679",
   "metadata": {},
   "outputs": [
    {
     "name": "stdout",
     "output_type": "stream",
     "text": [
      "96517040608012069739646774328123050437318010368011946522080786567928074875744398455920291662633616828227110535219751557507111903065235122909685762059484587165749911403355186635486398842434318412700060840305725321505213474041936693103779223526957041641940562201313490083631172240066045375482039709407123750235131598097126730510329089201735534060034678085216125818759163443583413072793991460252388117813177443850501164180637830569652858129581260643890987405276170252786702028832366567143396582372467230919836926410248104326486884838913179058340219911846560744889901534029678879557242486618563986592961055908541702403\n"
     ]
    }
   ],
   "source": [
    "print(encrypted_message)"
   ]
  },
  {
   "cell_type": "markdown",
   "id": "83d5aad1",
   "metadata": {},
   "source": [
    "Python is unable to handle such large numbers for cube root"
   ]
  },
  {
   "cell_type": "code",
   "execution_count": 77,
   "id": "5db5447e",
   "metadata": {},
   "outputs": [
    {
     "ename": "OverflowError",
     "evalue": "integer division result too large for a float",
     "output_type": "error",
     "traceback": [
      "\u001b[1;31m---------------------------------------------------------------------------\u001b[0m",
      "\u001b[1;31mOverflowError\u001b[0m                             Traceback (most recent call last)",
      "\u001b[1;32mC:\\Users\\YISHEN~1\\AppData\\Local\\Temp/ipykernel_103480/1309385153.py\u001b[0m in \u001b[0;36m<module>\u001b[1;34m\u001b[0m\n\u001b[1;32m----> 1\u001b[1;33m \u001b[0mdecrypted_message\u001b[0m \u001b[1;33m=\u001b[0m \u001b[0mencrypted_message\u001b[0m \u001b[1;33m**\u001b[0m \u001b[1;36m1\u001b[0m\u001b[1;33m/\u001b[0m\u001b[1;36m3\u001b[0m\u001b[1;33m\u001b[0m\u001b[1;33m\u001b[0m\u001b[0m\n\u001b[0m",
      "\u001b[1;31mOverflowError\u001b[0m: integer division result too large for a float"
     ]
    }
   ],
   "source": [
    "decrypted_message = encrypted_message ** 1/3"
   ]
  },
  {
   "cell_type": "markdown",
   "id": "00e31952",
   "metadata": {},
   "source": [
    "Use workaround function to get cube root"
   ]
  },
  {
   "cell_type": "code",
   "execution_count": 78,
   "id": "e55adf89",
   "metadata": {},
   "outputs": [
    {
     "name": "stdout",
     "output_type": "stream",
     "text": [
      "\u0004ɋ>Ɋǜ\f",
      "ơbÓɈʟÛ*ŨÎƤŚǄ͐ń̓ÛŅŜSʫά½¤͜ƞğʇɮƳ̘̿ȳƞ̿ZʗǺΔƙ͹ɧƶÏ΢fGʖ²ƨʬūŚćʣĭkʨɧĳ\n"
     ]
    }
   ],
   "source": [
    "decrypted_message = cube_root(encrypted_message)\n",
    "\n",
    "print(convert_to_string(decrypted_message))"
   ]
  },
  {
   "cell_type": "markdown",
   "id": "632bf23f",
   "metadata": {},
   "source": [
    "Message is still encrypted even after cube root"
   ]
  },
  {
   "cell_type": "markdown",
   "id": "11856dbc",
   "metadata": {},
   "source": [
    "Lets properly decrypt the message now"
   ]
  },
  {
   "cell_type": "code",
   "execution_count": 83,
   "id": "e3558d06",
   "metadata": {},
   "outputs": [],
   "source": [
    "decrypted_message = RSA_encrypt(encrypted_message, d, N)"
   ]
  },
  {
   "cell_type": "code",
   "execution_count": 84,
   "id": "0de11e60",
   "metadata": {},
   "outputs": [
    {
     "name": "stdout",
     "output_type": "stream",
     "text": [
      "Hello, this message is secure in RSA1024 but weak in RSA 2048 without padding with a small exponent of 3\n"
     ]
    }
   ],
   "source": [
    "print(convert_to_string(decrypted_message))"
   ]
  },
  {
   "cell_type": "markdown",
   "id": "0092778a",
   "metadata": {},
   "source": [
    "# RSA 2048"
   ]
  },
  {
   "cell_type": "markdown",
   "id": "7e1a0b00",
   "metadata": {},
   "source": [
    "Let's try to encrypt a message using RSA 2048"
   ]
  },
  {
   "cell_type": "markdown",
   "id": "999c4c12",
   "metadata": {},
   "source": [
    "Generate the primes p q\n",
    "\n",
    "Use encryption exponent of 3 again\n",
    "\n",
    "Get decryption exponent"
   ]
  },
  {
   "cell_type": "code",
   "execution_count": 91,
   "id": "2af75481",
   "metadata": {},
   "outputs": [
    {
     "name": "stdout",
     "output_type": "stream",
     "text": [
      "23301205960253318774455978293729997703121977084255450361902965081783025471348430780733817148375594724884512725381914796945587914796958273213096067668797565949096022961485526206392179082163598593682039504044419299712622908788242530820519619668316424689172429500273743252218069865784744391467476222822485289785821995549987596234989734072120981409405040639764831880501221158361982778866714009038452544988500147114797583600605038386607401567959418529765790035006128718776601513971913204814979456387716909142744094763199418785057086191542201156735930726654846971983489899824221561408202833753446551385409744183731504658423\n",
      "13071002500464001674578052034687869344037290816452271759582668919578720262285853469029974171490878225740858052200734967535158827303643842352627795715393747415497153465149900176867205004316103948278844010423550280325891256457591891962115599576844954991151428505315183917142406245691887032406663494385261697046266704485251073868587014797113339058759185472557628462352426803849372836347508854015240230177690167766443667574283166532596868340557530631140382573544715012269169552123124932419937663540096291135687665722980668798959654175781752514160834077594590964650074905552718292729916110222671362947824319957876613157271\n"
     ]
    }
   ],
   "source": [
    "p = Generate_Prime(2048, 3)\n",
    "q = Generate_Prime(2048, 3)\n",
    "N = p * q\n",
    "\n",
    "e = 3\n",
    "\n",
    "#Rerun this cell if if GCD of e and phi N not 1 (Might take a few retries)\n",
    "d = RSA_generate_D(e, p, q)"
   ]
  },
  {
   "cell_type": "code",
   "execution_count": 92,
   "id": "1b4f8141",
   "metadata": {},
   "outputs": [
    {
     "name": "stdout",
     "output_type": "stream",
     "text": [
      "72101108108111044032116104105115032109101115115097103101032105115032115101099117114101032105110032082083065049048050052032098117116032119101097107032105110032082083065032050048052056032119105116104111117116032112097100100105110103032119105116104032097032115109097108108032101120112111110101110116032111102032051\n"
     ]
    },
    {
     "data": {
      "text/plain": [
       "1033"
      ]
     },
     "execution_count": 92,
     "metadata": {},
     "output_type": "execute_result"
    }
   ],
   "source": [
    "message = \"Hello, this message is secure in RSA1024 but weak in RSA 2048 without padding with a small exponent of 3\"\n",
    "\n",
    "ascii_message = convert_to_ascii(message)\n",
    "print(ascii_message)\n",
    "ascii_message.bit_length()"
   ]
  },
  {
   "cell_type": "code",
   "execution_count": 93,
   "id": "c8a17657",
   "metadata": {},
   "outputs": [],
   "source": [
    "encrypted_message = RSA_encrypt(ascii_message, 3, N)"
   ]
  },
  {
   "cell_type": "code",
   "execution_count": 94,
   "id": "9325d803",
   "metadata": {},
   "outputs": [
    {
     "name": "stdout",
     "output_type": "stream",
     "text": [
      "374822642466453503471129234953054526212879179388354880533829447986843654790252314554033043646746764449913639182639657708742449037448950714078946330611043527252186205143428991207943778445949669261828678244029033364957051851646843200248207959737882920354740993629980412340688249208986011917884001719076791515449239894248936982703403870041158347994141996971536956348876306054595083780967728076706532035714204633008080071541961769864324054181130056979714597750740643162189705244532503479892077386565813438424295161109106397041214616802454831180487114975435436195881465431700791503705277369993863949588713707081687514834613488238651365075709738120939125370934830072994404453950653829807147232013328123932604129717807697923904573366449573757101712631775756908010422087048442049253902421391121963980754726364178279941244392279920641838047656797066648613408324642902777263968839370282113878069675238833717309324302239332461043662637827828651\n"
     ]
    }
   ],
   "source": [
    "print(encrypted_message)"
   ]
  },
  {
   "cell_type": "code",
   "execution_count": 95,
   "id": "602167bb",
   "metadata": {},
   "outputs": [
    {
     "name": "stdout",
     "output_type": "stream",
     "text": [
      "Ŷ̶ʂǒǅǷǗêι6ȎÔͯ³ƄŢͰȕ̽ƿϚ͋ʎ̖üĺȪ!+ʆ˪˼ǁΑɿ¶ɿʑ˄˦ǁ%ǀζˊNβŊɣ+ȏüºÍƬϟÏί̊ƽεʝą̼ʦô\u001d",
      "!Ŭν3͓ʆ͋ÈøÏοˡͲΘŢˤϡɵϔƜŔʰùÐϚ\u000b",
      "Εʹ\u0001ˏL̗ȃǁï;øΨϖʿƓͦ)śϢϤϋȘμŜͬĲ6ɓŠχ˘L˂Ȕ#ˊÌɹ\bPGȝρ́͠ń6µ8ϓˊɕˮˤʃ¢½ˁôȔǷǟͼMƂȵ̭ƶƨħ¡mjƍ)Öɨ̢ǆ̿´ǧrϏƳƴÃͱǑƯʼ̗Ƿˁĕűϡ͟εɌˉ˃QʯȂ͂ɥǨîʋŭK˅ˢxΫ}ŲΦ̾HϢƔǅζʍ̧̽è\r",
      "ň{Τɜˍ̧ʹΛΈȽŮǁȽ˵eˈɷ̇˴Ό\n",
      "ƦW0ƺ1ýΆƥƇyσϔ˲˖Ŭ²ėέôƈėΘʁ͆/ʐ̝BʈɥƘńʂΆ̉ćψ͇ŲĚqͮEʣî́ˍĵńĮïŌǍ+ʖɽ̻̼ʋ\n"
     ]
    }
   ],
   "source": [
    "print(convert_to_string(encrypted_message))"
   ]
  },
  {
   "cell_type": "markdown",
   "id": "ebce4b06",
   "metadata": {},
   "source": [
    "Since the number of bits of the plain text is much smaller than 2048 bits, even when the plain text raised to the power of 3 it is still smaller than 2048 bits which means the mod operation does nothing, and i can just use the cube root to find the original message"
   ]
  },
  {
   "cell_type": "code",
   "execution_count": 96,
   "id": "db7be867",
   "metadata": {},
   "outputs": [],
   "source": [
    "decrypted_message = cube_root(encrypted_message)"
   ]
  },
  {
   "cell_type": "code",
   "execution_count": 97,
   "id": "d04ce216",
   "metadata": {},
   "outputs": [
    {
     "name": "stdout",
     "output_type": "stream",
     "text": [
      "Hello, this message is secure in RSA1024 but weak in RSA 2048 without padding with a small exponent of 3\n"
     ]
    }
   ],
   "source": [
    "print(convert_to_string(decrypted_message))"
   ]
  },
  {
   "cell_type": "markdown",
   "id": "fd5a1c27",
   "metadata": {},
   "source": [
    "# Conclusions"
   ]
  },
  {
   "cell_type": "markdown",
   "id": "b3172843",
   "metadata": {},
   "source": [
    "This exploit can be avoided by simply padding the original message to make it the same size as N or by choosing a larger exponent"
   ]
  }
 ],
 "metadata": {
  "kernelspec": {
   "display_name": "Python 3 (ipykernel)",
   "language": "python",
   "name": "python3"
  },
  "language_info": {
   "codemirror_mode": {
    "name": "ipython",
    "version": 3
   },
   "file_extension": ".py",
   "mimetype": "text/x-python",
   "name": "python",
   "nbconvert_exporter": "python",
   "pygments_lexer": "ipython3",
   "version": "3.8.5"
  }
 },
 "nbformat": 4,
 "nbformat_minor": 5
}
