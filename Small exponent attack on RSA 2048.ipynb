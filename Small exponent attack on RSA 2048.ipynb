{
 "cells": [
  {
   "cell_type": "code",
   "execution_count": 1,
   "id": "0fb89612",
   "metadata": {},
   "outputs": [],
   "source": [
    "#Requires Python 3.8+"
   ]
  },
  {
   "cell_type": "markdown",
   "id": "fec5045c",
   "metadata": {},
   "source": [
    "# Imports"
   ]
  },
  {
   "cell_type": "code",
   "execution_count": 216,
   "id": "6ab4cd57",
   "metadata": {},
   "outputs": [],
   "source": [
    "import random\n",
    "import secrets\n",
    "from decimal import *"
   ]
  },
  {
   "cell_type": "markdown",
   "id": "ba9e0b27",
   "metadata": {},
   "source": [
    "# Functions"
   ]
  },
  {
   "cell_type": "markdown",
   "id": "d8adfb98",
   "metadata": {},
   "source": [
    "Returns the GCD of 2 numbers"
   ]
  },
  {
   "cell_type": "code",
   "execution_count": 50,
   "id": "5464dd73",
   "metadata": {},
   "outputs": [],
   "source": [
    "def gcd(a, b):\n",
    "    while(b):\n",
    "        a, b = b, a % b \n",
    "    return a"
   ]
  },
  {
   "cell_type": "markdown",
   "id": "f7cb2bf1",
   "metadata": {},
   "source": [
    "Rabin-Miller Primality Test<br>\n",
    "Checks if a number is prime, p is the number to be tested, s is the number of rounds<br>\n",
    "Number of rounds should ensure that the probability of p not being prime is < 2^(-80) "
   ]
  },
  {
   "cell_type": "code",
   "execution_count": 71,
   "id": "6679c69c",
   "metadata": {},
   "outputs": [],
   "source": [
    "def RMPT(p, s):\n",
    "    q = p - 1\n",
    "    k = 0\n",
    "    while q % 2 != 1:\n",
    "        q //= 2\n",
    "        k += 1\n",
    "        \n",
    "    for _ in range(s):\n",
    "        a = random.randrange(3, p - 2)      \n",
    "        while gcd(a, p) != 1:\n",
    "            a = random.randrange(3, p - 2)\n",
    "        \n",
    "        z = pow(a, q, p)\n",
    "        \n",
    "        if z == 1 or z == p - 1:\n",
    "            continue #Not a witness, pick another a\n",
    "        \n",
    "        for i in range(1, k):\n",
    "            z = pow(a, pow(2, i)*q, p)\n",
    "            if z == p - 1:\n",
    "                break #Not a witness, pick another a\n",
    "        else:\n",
    "            return False  #a^((2^K)*Q)modP != -1 for all values of K, it is a witness, therefore its definitely not prime\n",
    "        \n",
    "    return True #After S iterations still not a composite, chance to be a prime"
   ]
  },
  {
   "cell_type": "markdown",
   "id": "79af4498",
   "metadata": {},
   "source": [
    "Converts a string to ascii"
   ]
  },
  {
   "cell_type": "code",
   "execution_count": 154,
   "id": "a111a4fb",
   "metadata": {},
   "outputs": [],
   "source": [
    "def convert_to_ascii(message):\n",
    "    ascii_message = \"\"\n",
    "    for char in message:\n",
    "        ascii_char = ord(char)\n",
    "        ascii_char = str(ascii_char)\n",
    "        ascii_char = ascii_char.zfill(3)\n",
    "        ascii_message += ascii_char\n",
    "    return int(ascii_message)"
   ]
  },
  {
   "cell_type": "markdown",
   "id": "18cdee11",
   "metadata": {},
   "source": [
    "Converts ascii back to string"
   ]
  },
  {
   "cell_type": "code",
   "execution_count": 192,
   "id": "055dda18",
   "metadata": {},
   "outputs": [],
   "source": [
    "from textwrap import wrap\n",
    "\n",
    "def convert_to_string(ascii_message):\n",
    "    message = \"\"\n",
    "    ascii_message = str(ascii_message)\n",
    "    if(len(ascii_message) % 3 != 0):\n",
    "        for _ in range(3 - len(ascii_message) % 3):\n",
    "            ascii_message = \"0\" + ascii_message\n",
    "    ascii_list = wrap(ascii_message, 3)\n",
    "    for ascii in ascii_list:\n",
    "        message = message + chr(int(ascii))\n",
    "    return message"
   ]
  },
  {
   "cell_type": "markdown",
   "id": "8fcc62a8",
   "metadata": {},
   "source": [
    "Generates the decryption key using public key e and 2 prime numbers p and q"
   ]
  },
  {
   "cell_type": "code",
   "execution_count": 133,
   "id": "0275b54f",
   "metadata": {},
   "outputs": [],
   "source": [
    "def RSA_generate_D(e, p, q):\n",
    "    N = p * q\n",
    "    phi_N = (p - 1) * (q - 1)\n",
    "    assert gcd(e, phi_N) == 1, \"GCD of e and phi N must be 1\"\n",
    "    d = pow(e, -1, phi_N)\n",
    "    return d"
   ]
  },
  {
   "cell_type": "markdown",
   "id": "01ab0da8",
   "metadata": {},
   "source": [
    "Encrypts a number with public key e"
   ]
  },
  {
   "cell_type": "code",
   "execution_count": 167,
   "id": "330ef5a0",
   "metadata": {},
   "outputs": [],
   "source": [
    "def RSA_encrypt(ascii_message, e, N):\n",
    "    encrypted_message = pow(ascii_message, e, N)\n",
    "    return encrypted_message"
   ]
  },
  {
   "cell_type": "markdown",
   "id": "53a148b2",
   "metadata": {},
   "source": [
    "Encrypts a number using private key d"
   ]
  },
  {
   "cell_type": "code",
   "execution_count": null,
   "id": "d70d10e4",
   "metadata": {},
   "outputs": [],
   "source": [
    "def RSA_decrypt(encrypted_message, d, N):\n",
    "    ascii_message = pow(encrypted_message, d, N)\n",
    "    return ascii_message"
   ]
  },
  {
   "cell_type": "markdown",
   "id": "4ec2ea62",
   "metadata": {},
   "source": [
    "Continuously generates random bit_length numbers<br>\n",
    "If number is even, adds one to make it odd<br>\n",
    "Tries to factorize the number with small primes to determine if composite<br>\n",
    "Uses Rabin-Miller Primality Test if it is still possible to be a prime number"
   ]
  },
  {
   "cell_type": "code",
   "execution_count": 130,
   "id": "0d7b8489",
   "metadata": {},
   "outputs": [],
   "source": [
    "def Generate_Prime(bit_length, RMPT_rounds):   \n",
    "    while(True):\n",
    "        num = secrets.randbits(bit_length)\n",
    "        \n",
    "        #If number is even, make it odd\n",
    "        if num%2 == 0:\n",
    "            num += 1\n",
    "        #Try factorize using small primes\n",
    "        elif num%3 == 0:\n",
    "            continue\n",
    "        elif num%5 == 0:\n",
    "            continue\n",
    "        elif num%7 == 0:\n",
    "            continue\n",
    "        elif num%11 == 0:\n",
    "            continue\n",
    "        #Try the expensive Rabin-Miller Primality Test\n",
    "        elif RMPT(num, RMPT_rounds):\n",
    "            print(num)\n",
    "            return num"
   ]
  },
  {
   "cell_type": "markdown",
   "id": "051a054b",
   "metadata": {},
   "source": [
    "# RSA 1024"
   ]
  },
  {
   "cell_type": "code",
   "execution_count": 141,
   "id": "c272f118",
   "metadata": {},
   "outputs": [
    {
     "name": "stdout",
     "output_type": "stream",
     "text": [
      "112007274411492932203003985852265284633825558666188564847677886989635677089938960827538024824613355138793768734507365105892206457313657306955111080082587911484006170867863289948078561326081446989964213408670176914099076038535088335213866025371789225164615769274974423531788614703159129407338566774087284825897\n"
     ]
    }
   ],
   "source": [
    "p = Generate_Prime(1024, 15)"
   ]
  },
  {
   "cell_type": "code",
   "execution_count": 142,
   "id": "0ea1d4b7",
   "metadata": {},
   "outputs": [
    {
     "name": "stdout",
     "output_type": "stream",
     "text": [
      "44388198675402330255157764883651845483911584760541083818850259569107083757350953919065939759725571076157305352337170507482647141333634139227053038445304976677601264011423989120789398665835201482285741602621047717625955980344505897028748062983314134880378511432629708124480328041623241555158208582504791413311\n"
     ]
    }
   ],
   "source": [
    "q = Generate_Prime(1024, 15)"
   ]
  },
  {
   "cell_type": "code",
   "execution_count": 150,
   "id": "17343c28",
   "metadata": {},
   "outputs": [],
   "source": [
    "N = p * q"
   ]
  },
  {
   "cell_type": "code",
   "execution_count": 143,
   "id": "2b18411b",
   "metadata": {},
   "outputs": [],
   "source": [
    "d = RSA_generate_D(3, p, q)"
   ]
  },
  {
   "cell_type": "code",
   "execution_count": 163,
   "id": "99f18d46",
   "metadata": {},
   "outputs": [
    {
     "name": "stdout",
     "output_type": "stream",
     "text": [
      "72101108108111044032116104105115032109101115115097103101032105115032115101099117114101032105110032082083065049048050052032098117116032119101097107032105110032082083065032050048052056032119105116104111117116032112097100100105110103032119105116104032097032115109097108108032101120112111110101110116032111102032051\n"
     ]
    },
    {
     "data": {
      "text/plain": [
       "1033"
      ]
     },
     "execution_count": 163,
     "metadata": {},
     "output_type": "execute_result"
    }
   ],
   "source": [
    "message = \"Hello, this message is secure in RSA1024 but weak in RSA 2048 without padding with a small exponent of 3\"\n",
    "\n",
    "ascii_message = convert_to_ascii(message)\n",
    "print(ascii_message)\n",
    "ascii_message.bit_length()"
   ]
  },
  {
   "cell_type": "code",
   "execution_count": 168,
   "id": "78faf606",
   "metadata": {},
   "outputs": [],
   "source": [
    "encrypted_message = RSA_encrypt(ascii_message, 3, N)"
   ]
  },
  {
   "cell_type": "code",
   "execution_count": 169,
   "id": "b512042b",
   "metadata": {},
   "outputs": [
    {
     "name": "stdout",
     "output_type": "stream",
     "text": [
      "862065518385892510505107470880622421869203899106005976962834397943854894252907727932381335991617784070832951879756847421913952641737813793677045620752254000484244844959250053433595335441170458191469221384009989918621009169229954516824861082074606371547799781613125147206834649672734628800016202001463808313744518150918530624430508663553244573402718452052800532023051080324737646589482434472702587219567811818559420654279932468515023831590043630324647279570130110603345082334732893856278266990005236214151837122082984853896198007651808771443575248165715972987461159010031742091836715019715658541110304310553658453990\n"
     ]
    }
   ],
   "source": [
    "print(encrypted_message)"
   ]
  },
  {
   "cell_type": "code",
   "execution_count": 197,
   "id": "be80208d",
   "metadata": {},
   "outputs": [
    {
     "name": "stdout",
     "output_type": "stream",
     "text": [
      "͞AȆƁͼǾǹkǖͰɮƥͥË΃j\u0005ϐς͂ƍί͖;ü΋˗ΤŽŏϟɩ̐F̀ηͯ˴͏ƥΑθʁˡ̭̙ʥ-ɬ˰þ\u0000Ǥô͌οú5ƱɓŏƹªǊ¿ǕÝƀ\tϝΖɭ\t©åκȄ̸͝RJɞųȣ̟̍ɥ}Î͂ʉʠ˞ɴ̠\u0010Ê\u0001Į̌Ĺ˨ȆΖȒɰƮǼʗȩôȽƒˎǄ4̠Ȕ\u00173PńˡʆɍǢƲǘʾɋÛȷ̫̲ȯƤʎėΤǔȃ\u0017̿Ɏ+ɶńʇėȺnɛřRŎ˜ͽ͘ĖĊϞ\u0005ìÖͅzRϘ͕΀Æ\u0007ʋ̨̃ƻȿø¥ˋόϛǍ\n",
      "\u001f˦[̈́ˋ\u0013ˋʒȝnİĶȩʒǅϞ\n"
     ]
    }
   ],
   "source": [
    "print(convert_to_string(encrypted_message))"
   ]
  },
  {
   "cell_type": "code",
   "execution_count": 198,
   "id": "fb686b7d",
   "metadata": {},
   "outputs": [],
   "source": [
    "decrypted_message = RSA_encrypt(encrypted_message, d, N)"
   ]
  },
  {
   "cell_type": "code",
   "execution_count": 199,
   "id": "1883b744",
   "metadata": {},
   "outputs": [
    {
     "name": "stdout",
     "output_type": "stream",
     "text": [
      "Hello, this message is secure in RSA1024 but weak in RSA 2048 without padding with a small exponent of 3\n"
     ]
    }
   ],
   "source": [
    "print(convert_to_string(decrypted_message))"
   ]
  },
  {
   "cell_type": "markdown",
   "id": "8ddde0e1",
   "metadata": {},
   "source": [
    "# RSA 2048"
   ]
  },
  {
   "cell_type": "code",
   "execution_count": 207,
   "id": "b31788a2",
   "metadata": {},
   "outputs": [
    {
     "name": "stdout",
     "output_type": "stream",
     "text": [
      "9727865763509846123733885720856249176912860111602134732304407943585962154976893182904491071377985130405512001641260830836726601063953060764696245422686258616155839000412061136399825338896561715137771309438075122019086230114566726172926310134599510336609429362162820813677432751602159949638299753264196720925334194658008317599405194261187267025216603066751191712422458928123769136268679017219434442400404562562487671636323695352165516531243785820475815828148651664717304271242943004071607042175565792948506323553046628474917721171949646346659084717822855892901753419859065595445133363599682778845630718448328026596209\n"
     ]
    }
   ],
   "source": [
    "p = Generate_Prime(2048, 15)"
   ]
  },
  {
   "cell_type": "code",
   "execution_count": 201,
   "id": "b5482cd8",
   "metadata": {},
   "outputs": [
    {
     "name": "stdout",
     "output_type": "stream",
     "text": [
      "1684429827369255255303158195555661806616277550699462706655042183057403944083632652054602140158867591612504812864612117221363162083824680077860012498319590830408301857904112703622084227841103255183763781284818101974359063837403203715686695237929352154958942945425811472678905613749831534070575881648178566215474968950297753076330810833112445885639132720107019255811825897900298201347268848517355269388256730429560201726133945324898472794265748602836780769776755004217655068314074625397945440327995873431020720253754915497124614418281627109863393843146222583496936680887338492905228678186063381777141685842763013048087\n"
     ]
    }
   ],
   "source": [
    "q = Generate_Prime(2048, 15)"
   ]
  },
  {
   "cell_type": "code",
   "execution_count": 205,
   "id": "8fafaa43",
   "metadata": {},
   "outputs": [],
   "source": [
    "N = p * q"
   ]
  },
  {
   "cell_type": "code",
   "execution_count": 208,
   "id": "d00e4383",
   "metadata": {},
   "outputs": [],
   "source": [
    "#Might have to generate a few different p q, if gcd(3, phi(N)) == 0\n",
    "d = RSA_generate_D(3, p, q)"
   ]
  },
  {
   "cell_type": "code",
   "execution_count": 209,
   "id": "bcc116a5",
   "metadata": {},
   "outputs": [
    {
     "name": "stdout",
     "output_type": "stream",
     "text": [
      "72101108108111044032116104105115032109101115115097103101032105115032115101099117114101032105110032082083065049048050052032098117116032119101097107032105110032082083065032050048052056032119105116104111117116032112097100100105110103032119105116104032097032115109097108108032101120112111110101110116032111102032051\n"
     ]
    },
    {
     "data": {
      "text/plain": [
       "1033"
      ]
     },
     "execution_count": 209,
     "metadata": {},
     "output_type": "execute_result"
    }
   ],
   "source": [
    "message = \"Hello, this message is secure in RSA1024 but weak in RSA 2048 without padding with a small exponent of 3\"\n",
    "\n",
    "ascii_message = convert_to_ascii(message)\n",
    "print(ascii_message)\n",
    "ascii_message.bit_length()"
   ]
  },
  {
   "cell_type": "code",
   "execution_count": 210,
   "id": "05f83b80",
   "metadata": {},
   "outputs": [],
   "source": [
    "encrypted_message = RSA_encrypt(ascii_message, 3, N)"
   ]
  },
  {
   "cell_type": "code",
   "execution_count": 211,
   "id": "83c61bf5",
   "metadata": {},
   "outputs": [
    {
     "name": "stdout",
     "output_type": "stream",
     "text": [
      "374822642466453503471129234953054526212879179388354880533829447986843654790252314554033043646746764449913639182639657708742449037448950714078946330611043527252186205143428991207943778445949669261828678244029033364957051851646843200248207959737882920354740993629980412340688249208986011917884001719076791515449239894248936982703403870041158347994141996971536956348876306054595083780967728076706532035714204633008080071541961769864324054181130056979714597750740643162189705244532503479892077386565813438424295161109106397041214616802454831180487114975435436195881465431700791503705277369993863949588713707081687514834613488238651365075709738120939125370934830072994404453950653829807147232013328123932604129717807697923904573366449573757101712631775756908010422087048442049253902421391121963980754726364178279941244392279920641838047656797066648613408324642902777263968839370282113878069675238833717309324302239332461043662637827828651\n"
     ]
    }
   ],
   "source": [
    "print(encrypted_message)"
   ]
  },
  {
   "cell_type": "code",
   "execution_count": 212,
   "id": "e9f31136",
   "metadata": {},
   "outputs": [
    {
     "name": "stdout",
     "output_type": "stream",
     "text": [
      "Ŷ̶ʂǒǅǷǗêι6ȎÔͯ³ƄŢͰȕ̽ƿϚ͋ʎ̖üĺȪ!+ʆ˪˼ǁΑɿ¶ɿʑ˄˦ǁ%ǀζˊNβŊɣ+ȏüºÍƬϟÏί̊ƽεʝą̼ʦô\u001d",
      "!Ŭν3͓ʆ͋ÈøÏοˡͲΘŢˤϡɵϔƜŔʰùÐϚ\u000b",
      "Εʹ\u0001ˏL̗ȃǁï;øΨϖʿƓͦ)śϢϤϋȘμŜͬĲ6ɓŠχ˘L˂Ȕ#ˊÌɹ\bPGȝρ́͠ń6µ8ϓˊɕˮˤʃ¢½ˁôȔǷǟͼMƂȵ̭ƶƨħ¡mjƍ)Öɨ̢ǆ̿´ǧrϏƳƴÃͱǑƯʼ̗Ƿˁĕűϡ͟εɌˉ˃QʯȂ͂ɥǨîʋŭK˅ˢxΫ}ŲΦ̾HϢƔǅζʍ̧̽è\r",
      "ň{Τɜˍ̧ʹΛΈȽŮǁȽ˵eˈɷ̇˴Ό\n",
      "ƦW0ƺ1ýΆƥƇyσϔ˲˖Ŭ²ėέôƈėΘʁ͆/ʐ̝BʈɥƘńʂΆ̉ćψ͇ŲĚqͮEʣî́ˍĵńĮïŌǍ+ʖɽ̻̼ʋ\n"
     ]
    }
   ],
   "source": [
    "print(convert_to_string(encrypted_message))"
   ]
  },
  {
   "cell_type": "markdown",
   "id": "503f0809",
   "metadata": {},
   "source": [
    "Since the number of bits of the plain text is much smaller than 2048 bits, even when the plain text raised to the power of 3 it is still smaller than 2048 bits which means the mod operation does nothing, and i can just use the cube root to find the original message"
   ]
  },
  {
   "cell_type": "code",
   "execution_count": 223,
   "id": "9d58c8a0",
   "metadata": {},
   "outputs": [],
   "source": [
    "#Workaround for getting the cube root of a huge integer\n",
    "\n",
    "minprec = 27\n",
    "\n",
    "encrypted_message_len = len(str(encrypted_message))\n",
    "\n",
    "if encrypted_message_len > minprec: \n",
    "    getcontext().prec = encrypted_message_len\n",
    "else:\n",
    "    getcontext().prec = minprec\n",
    "    \n",
    "encrypted_message = Decimal(encrypted_message)\n",
    "power = Decimal(1)/Decimal(3)\n",
    "\n",
    "#Gets cube root of encrypted message\n",
    "decrypted_message = encrypted_message**power\n",
    "decrypted_message = int(decrypted_message.quantize(Decimal('1.'), rounding=ROUND_UP))"
   ]
  },
  {
   "cell_type": "code",
   "execution_count": 224,
   "id": "c555b5dc",
   "metadata": {},
   "outputs": [
    {
     "name": "stdout",
     "output_type": "stream",
     "text": [
      "Hello, this message is secure in RSA1024 but weak in RSA 2048 without padding with a small exponent of 3\n"
     ]
    }
   ],
   "source": [
    "print(convert_to_string(decrypted_message))"
   ]
  },
  {
   "cell_type": "markdown",
   "id": "3565d122",
   "metadata": {},
   "source": [
    "This exploit can be avoided by simply padding the original message to "
   ]
  }
 ],
 "metadata": {
  "kernelspec": {
   "display_name": "Python 3 (ipykernel)",
   "language": "python",
   "name": "python3"
  },
  "language_info": {
   "codemirror_mode": {
    "name": "ipython",
    "version": 3
   },
   "file_extension": ".py",
   "mimetype": "text/x-python",
   "name": "python",
   "nbconvert_exporter": "python",
   "pygments_lexer": "ipython3",
   "version": "3.8.5"
  }
 },
 "nbformat": 4,
 "nbformat_minor": 5
}
